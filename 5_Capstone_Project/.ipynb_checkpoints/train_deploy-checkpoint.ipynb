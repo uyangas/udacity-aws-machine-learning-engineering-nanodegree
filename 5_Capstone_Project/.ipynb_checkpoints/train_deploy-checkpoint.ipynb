{
 "cells": [
  {
   "cell_type": "markdown",
   "id": "dbf9cc21-4489-409c-948d-5a8854045ae0",
   "metadata": {},
   "source": [
    "# Alzheimer's Severity Prediction from Brain X-ray Images\n",
    "A Capstone project"
   ]
  },
  {
   "cell_type": "code",
   "execution_count": 41,
   "id": "d110f191-4ee2-4abb-8fcf-904ee87e73a8",
   "metadata": {
    "tags": []
   },
   "outputs": [],
   "source": [
    "%%capture\n",
    "!pip install kaggle\n",
    "!pip install sagemaker -U\n",
    "!pip install smdebug"
   ]
  },
  {
   "cell_type": "code",
   "execution_count": 42,
   "id": "1472677d-ad32-450a-bd55-a2fbac146a9b",
   "metadata": {
    "tags": []
   },
   "outputs": [],
   "source": [
    "import pandas as pd\n",
    "import numpy as np\n",
    "\n",
    "import sagemaker\n",
    "import boto3\n",
    "from sagemaker.tuner import (\n",
    "    IntegerParameter,\n",
    "    CategoricalParameter,\n",
    "    ContinuousParameter,\n",
    "    HyperparameterTuner,\n",
    ")\n",
    "from sagemaker.pytorch import PyTorch\n",
    "from sagemaker.pytorch import PyTorchModel\n",
    "\n",
    "from sagemaker.debugger import (\n",
    "    Rule,\n",
    "    DebuggerHookConfig,\n",
    "    rule_configs,\n",
    "    ProfilerRule,\n",
    "    CollectionConfig,\n",
    "    ProfilerConfig,\n",
    "    FrameworkProfile\n",
    ")\n",
    "\n",
    "import os\n",
    "import json\n",
    "from PIL import Image\n",
    "import random\n",
    "import matplotlib.pyplot as plt\n",
    "from mpl_toolkits.axes_grid1 import host_subplot\n",
    "\n",
    "import smdebug\n",
    "from smdebug.trials import create_trial\n",
    "from smdebug.core.modes import ModeKeys\n",
    "\n",
    "import torchvision.transforms as transforms\n",
    "from torchvision.datasets import ImageFolder\n",
    "import torch\n",
    "from sklearn.metrics import confusion_matrix, accuracy_score"
   ]
  },
  {
   "cell_type": "markdown",
   "id": "1a243886-55a4-4377-9a54-6535accae4f0",
   "metadata": {},
   "source": [
    "## 1. Prepare dataset"
   ]
  },
  {
   "cell_type": "markdown",
   "id": "ed7f7be1-f983-4785-8a86-985dba29176e",
   "metadata": {},
   "source": [
    "### 1.1. Download the dataset"
   ]
  },
  {
   "cell_type": "code",
   "execution_count": 4,
   "id": "1b406a1a-02dc-44d6-bdcd-701e0a796b65",
   "metadata": {
    "tags": []
   },
   "outputs": [],
   "source": [
    "# create the .kaggle directory and an empty kaggle.json file\n",
    "!mkdir -p /root/.kaggle\n",
    "!touch /root/.kaggle/kaggle.json\n",
    "!chmod 600 /root/.kaggle/kaggle.json"
   ]
  },
  {
   "cell_type": "code",
   "execution_count": 5,
   "id": "2b0504df-4e76-41a1-af9e-0bb7db95bae0",
   "metadata": {
    "tags": []
   },
   "outputs": [],
   "source": [
    "# Fill in your user name and key from creating the kaggle account and API token file\n",
    "kaggle_username = \"uyangas\"\n",
    "kaggle_key = \"d1e406b22b8c18b484fffe948a4cb19f\"\n",
    "\n",
    "# Save API token the kaggle.json file\n",
    "with open(\"/root/.kaggle/kaggle.json\", \"w\") as f:\n",
    "    f.write(json.dumps({\"username\": kaggle_username, \"key\": kaggle_key}))"
   ]
  },
  {
   "cell_type": "code",
   "execution_count": 6,
   "id": "6e48eeaf-2a23-4f37-ab68-d6552faf75d5",
   "metadata": {
    "tags": []
   },
   "outputs": [
    {
     "name": "stdout",
     "output_type": "stream",
     "text": [
      "Downloading alzheimers-dataset-4-class-of-images.zip to /root/AWS_MLE/5_Capstone_Project\n",
      " 91%|██████████████████████████████████▌   | 31.0M/34.1M [00:01<00:00, 31.6MB/s]\n",
      "100%|██████████████████████████████████████| 34.1M/34.1M [00:01<00:00, 20.3MB/s]\n"
     ]
    }
   ],
   "source": [
    "# Download the dataset, it will be in a .zip file so you'll need to unzip it as well.\n",
    "!kaggle datasets download -d tourist55/alzheimers-dataset-4-class-of-images "
   ]
  },
  {
   "cell_type": "code",
   "execution_count": 15,
   "id": "27b6f921-c2b9-4ac3-8a22-2576c232a72f",
   "metadata": {
    "tags": []
   },
   "outputs": [],
   "source": [
    "# If you already downloaded it you can use the -o command to overwrite the file\n",
    "!unzip -o alzheimers-dataset-4-class-of-images.zip"
   ]
  },
  {
   "cell_type": "code",
   "execution_count": 8,
   "id": "6d5ea465-fb81-4d5a-bc98-5705e04689f7",
   "metadata": {
    "tags": []
   },
   "outputs": [
    {
     "name": "stdout",
     "output_type": "stream",
     "text": [
      "<<< test >>>\n",
      "MildDemented images: 179\n",
      "VeryMildDemented images: 448\n",
      "NonDemented images: 640\n",
      "ModerateDemented images: 12\n",
      "<<< train >>>\n",
      "MildDemented images: 717\n",
      "VeryMildDemented images: 1792\n",
      "NonDemented images: 2560\n",
      "ModerateDemented images: 52\n"
     ]
    }
   ],
   "source": [
    "data_root='/root/Alzheimer_s Dataset'\n",
    "\n",
    "for data_type in os.listdir(data_root):\n",
    "    \n",
    "    print(f\"<<< {data_type} >>>\")\n",
    "    data_dir = os.path.join(data_root, data_type)\n",
    "    \n",
    "    for sub_type in os.listdir(data_dir):\n",
    "        sub_dir = os.path.join(data_dir, sub_type)\n",
    "        print(f\"{sub_type} images: {len(os.listdir(sub_dir))}\")"
   ]
  },
  {
   "cell_type": "markdown",
   "id": "0e0f2f3d-c3eb-4ac8-8c8e-207e8aff8ca8",
   "metadata": {},
   "source": [
    "### 1.2. Split the dataset"
   ]
  },
  {
   "cell_type": "markdown",
   "id": "4c2d801e-9119-4104-b5eb-40837a52652d",
   "metadata": {},
   "source": [
    "The dataset only contains `train` and `test` sets. Create `validation` set by randomly sampling `20%` of the `train` data"
   ]
  },
  {
   "cell_type": "code",
   "execution_count": 9,
   "id": "2f603d4b-d941-4440-a1ca-1af295462e87",
   "metadata": {
    "tags": []
   },
   "outputs": [],
   "source": [
    "!mkdir /root/\"Alzheimer_s Dataset\"/valid"
   ]
  },
  {
   "cell_type": "code",
   "execution_count": 10,
   "id": "77f3e290-3789-4551-becd-da3dcb2ad58c",
   "metadata": {
    "tags": []
   },
   "outputs": [
    {
     "name": "stdout",
     "output_type": "stream",
     "text": [
      "Created:  /root/Alzheimer_s Dataset/valid/MildDemented\n",
      "<<< MildDemented moved to valid : 132 >>>\n",
      "Created:  /root/Alzheimer_s Dataset/valid/VeryMildDemented\n",
      "<<< VeryMildDemented moved to valid : 325 >>>\n",
      "Created:  /root/Alzheimer_s Dataset/valid/NonDemented\n",
      "<<< NonDemented moved to valid : 462 >>>\n",
      "Created:  /root/Alzheimer_s Dataset/valid/ModerateDemented\n",
      "<<< ModerateDemented moved to valid : 8 >>>\n"
     ]
    }
   ],
   "source": [
    "from_dir = os.path.join(data_root, 'train')\n",
    "to_dir = os.path.join(data_root, 'valid')\n",
    "\n",
    "for sub_type in os.listdir(from_dir):\n",
    "    from_sub_dir = os.path.join(from_dir, sub_type)\n",
    "    to_sub_dir = os.path.join(to_dir, sub_type)\n",
    "\n",
    "    os.mkdir(to_sub_dir)\n",
    "    print(\"Created: \", to_sub_dir)\n",
    "    \n",
    "    valid_samples = np.random.choice(os.listdir(from_sub_dir), int(0.2*len(os.listdir(from_sub_dir))))\n",
    "    \n",
    "    for file in valid_samples:\n",
    "        rm_dir = os.path.join(from_sub_dir, file)\n",
    "        cp_dir = os.path.join(to_sub_dir, file)\n",
    "        \n",
    "        try:\n",
    "            os.rename(rm_dir, cp_dir)\n",
    "        except:\n",
    "            pass\n",
    "        \n",
    "    print(f\"<<< {sub_type} moved to valid : {len(os.listdir(to_sub_dir))} >>>\")"
   ]
  },
  {
   "cell_type": "code",
   "execution_count": 30,
   "id": "8fa9e41e-c00d-4a67-a42a-085d7599ca35",
   "metadata": {
    "tags": []
   },
   "outputs": [
    {
     "name": "stdout",
     "output_type": "stream",
     "text": [
      "ModerateDemented : moderateDem5.jpg\n"
     ]
    },
    {
     "data": {
      "image/png": "[encoded data removed]",
      "text/plain": [
       "<PIL.JpegImagePlugin.JpegImageFile image mode=L size=176x208>"
      ]
     },
     "execution_count": 30,
     "metadata": {},
     "output_type": "execute_result"
    }
   ],
   "source": [
    "sub = random.choice(os.listdir(from_dir))\n",
    "sub_dir = os.path.join(from_dir, sub)\n",
    "image = random.choice(os.listdir(sub_dir))\n",
    "img_dir = os.path.join(sub_dir, image)\n",
    "img = Image.open(img_dir)\n",
    "\n",
    "print(f\"{sub} : {image}\")\n",
    "img"
   ]
  },
  {
   "cell_type": "code",
   "execution_count": 31,
   "id": "55304d89-5e4c-4c31-9cbc-8ddf1835610f",
   "metadata": {
    "tags": []
   },
   "outputs": [
    {
     "name": "stdout",
     "output_type": "stream",
     "text": [
      "The size of the image: (208, 176)\n"
     ]
    }
   ],
   "source": [
    "print(f\"The size of the image: {np.array(img).shape}\")"
   ]
  },
  {
   "cell_type": "markdown",
   "id": "58cf6a2d-e146-452a-9a65-2f38518d2826",
   "metadata": {},
   "source": [
    "### 1.3. Upload the dataset to S3"
   ]
  },
  {
   "cell_type": "code",
   "execution_count": 43,
   "id": "e06687f4-e712-4478-9d9b-9d6f40c0e84a",
   "metadata": {
    "tags": []
   },
   "outputs": [],
   "source": [
    "BUCKET = \"capstone-us-data1\""
   ]
  },
  {
   "cell_type": "code",
   "execution_count": 16,
   "id": "3e9f1486-cdfc-4415-88c1-c7dbc2b3620b",
   "metadata": {
    "tags": []
   },
   "outputs": [],
   "source": [
    "!aws s3 sync \"/root/Alzheimer_s Dataset\" s3://{BUCKET}/\"Alzheimer_s Dataset\""
   ]
  },
  {
   "cell_type": "markdown",
   "id": "3f565405-4321-440b-b634-b0e1b37b993c",
   "metadata": {},
   "source": [
    "## 2. Pretrained model tuning and training"
   ]
  },
  {
   "cell_type": "markdown",
   "id": "4eb93e51-836e-4f63-a56d-ea2bcf408abf",
   "metadata": {},
   "source": [
    "For pre-trained model, `VGG16` was chosen. "
   ]
  },
  {
   "cell_type": "markdown",
   "id": "5401837c-768a-4eec-a4fb-a9fcf988f487",
   "metadata": {
    "tags": []
   },
   "source": [
    "### 2.1. Model tuning"
   ]
  },
  {
   "cell_type": "code",
   "execution_count": 44,
   "id": "c542c991-65b8-48fe-909c-a00f6156852b",
   "metadata": {
    "tags": []
   },
   "outputs": [],
   "source": [
    "role = sagemaker.get_execution_role()\n",
    "\n",
    "data_channels = {\n",
    "    \"train\": f\"s3://{BUCKET}/Alzheimer_s Dataset/train/\",\n",
    "    \"test\": f\"s3://{BUCKET}/Alzheimer_s Dataset/test/\",\n",
    "    \"valid\": f\"s3://{BUCKET}/Alzheimer_s Dataset/valid/\"\n",
    "}"
   ]
  },
  {
   "cell_type": "code",
   "execution_count": 7,
   "id": "1dc019e2-7d7f-45ca-a5b9-a1cb816231ea",
   "metadata": {
    "tags": []
   },
   "outputs": [],
   "source": [
    "hyperparameter_ranges = {\n",
    "    \"lr\": ContinuousParameter(0.001, 0.1),\n",
    "    \"batch-size\": CategoricalParameter([32, 64]),\n",
    "}\n",
    "\n",
    "role = sagemaker.get_execution_role()\n",
    "\n",
    "objective_metric_name = \"Test Loss\"\n",
    "objective_type = \"Minimize\"\n",
    "metric_definitions = [{\"Name\": objective_metric_name, \"Regex\": \"Testing Loss: ([0-9\\\\.]+)\"}]"
   ]
  },
  {
   "cell_type": "code",
   "execution_count": 8,
   "id": "9abb3016-f9a3-4e47-9937-8995e1eba0e9",
   "metadata": {
    "tags": []
   },
   "outputs": [],
   "source": [
    "estimator = PyTorch(\n",
    "    entry_point=\"pre_hpo.py\",\n",
    "    base_job_name='pytorch_dementia_hpo',\n",
    "    role=role,\n",
    "    framework_version=\"1.9.0\",\n",
    "    instance_count=2,\n",
    "    instance_type=\"ml.g4dn.xlarge\",\n",
    "    py_version='py38'\n",
    ")\n",
    "\n",
    "tuner = HyperparameterTuner(\n",
    "    estimator,\n",
    "    objective_metric_name,\n",
    "    hyperparameter_ranges,\n",
    "    metric_definitions,\n",
    "    max_jobs=2,\n",
    "    max_parallel_jobs=1, \n",
    "    objective_type=objective_type\n",
    ")"
   ]
  },
  {
   "cell_type": "code",
   "execution_count": null,
   "id": "7555459c-75ca-4f6a-9bd8-bb061d0e4748",
   "metadata": {
    "tags": []
   },
   "outputs": [
    {
     "name": "stderr",
     "output_type": "stream",
     "text": [
      "No finished training job found associated with this estimator. Please make sure this estimator is only used for building workflow config\n",
      "No finished training job found associated with this estimator. Please make sure this estimator is only used for building workflow config\n"
     ]
    },
    {
     "name": "stdout",
     "output_type": "stream",
     "text": [
      "....................................................................................................................................................................!\n"
     ]
    }
   ],
   "source": [
    "tuner.fit(\n",
    "    data_channels,\n",
    "    wait=True) "
   ]
  },
  {
   "cell_type": "code",
   "execution_count": 9,
   "id": "a4e60fae-ad50-4fff-a828-8d3e413cf9c4",
   "metadata": {},
   "outputs": [
    {
     "data": {
      "text/html": [
       "<div>\n",
       "<style scoped>\n",
       "    .dataframe tbody tr th:only-of-type {\n",
       "        vertical-align: middle;\n",
       "    }\n",
       "\n",
       "    .dataframe tbody tr th {\n",
       "        vertical-align: top;\n",
       "    }\n",
       "\n",
       "    .dataframe thead th {\n",
       "        text-align: right;\n",
       "    }\n",
       "</style>\n",
       "<table border=\"1\" class=\"dataframe\">\n",
       "  <thead>\n",
       "    <tr style=\"text-align: right;\">\n",
       "      <th></th>\n",
       "      <th>batch-size</th>\n",
       "      <th>lr</th>\n",
       "      <th>TrainingJobName</th>\n",
       "      <th>TrainingJobStatus</th>\n",
       "      <th>FinalObjectiveValue</th>\n",
       "      <th>TrainingStartTime</th>\n",
       "      <th>TrainingEndTime</th>\n",
       "      <th>TrainingElapsedTimeSeconds</th>\n",
       "    </tr>\n",
       "  </thead>\n",
       "  <tbody>\n",
       "    <tr>\n",
       "      <th>1</th>\n",
       "      <td>\"32\"</td>\n",
       "      <td>0.00800</td>\n",
       "      <td>pytorch-training-230406-1921-001-c114a446</td>\n",
       "      <td>Completed</td>\n",
       "      <td>1.034360</td>\n",
       "      <td>2023-04-06 19:22:39+00:00</td>\n",
       "      <td>2023-04-06 19:30:24+00:00</td>\n",
       "      <td>465.0</td>\n",
       "    </tr>\n",
       "    <tr>\n",
       "      <th>0</th>\n",
       "      <td>\"32\"</td>\n",
       "      <td>0.03025</td>\n",
       "      <td>pytorch-training-230406-1921-002-a5368f12</td>\n",
       "      <td>Completed</td>\n",
       "      <td>1.033763</td>\n",
       "      <td>2023-04-06 19:31:54+00:00</td>\n",
       "      <td>2023-04-06 19:35:27+00:00</td>\n",
       "      <td>213.0</td>\n",
       "    </tr>\n",
       "  </tbody>\n",
       "</table>\n",
       "</div>"
      ],
      "text/plain": [
       "  batch-size       lr                            TrainingJobName  \\\n",
       "1       \"32\"  0.00800  pytorch-training-230406-1921-001-c114a446   \n",
       "0       \"32\"  0.03025  pytorch-training-230406-1921-002-a5368f12   \n",
       "\n",
       "  TrainingJobStatus  FinalObjectiveValue         TrainingStartTime  \\\n",
       "1         Completed             1.034360 2023-04-06 19:22:39+00:00   \n",
       "0         Completed             1.033763 2023-04-06 19:31:54+00:00   \n",
       "\n",
       "            TrainingEndTime  TrainingElapsedTimeSeconds  \n",
       "1 2023-04-06 19:30:24+00:00                       465.0  \n",
       "0 2023-04-06 19:35:27+00:00                       213.0  "
      ]
     },
     "execution_count": 9,
     "metadata": {},
     "output_type": "execute_result"
    }
   ],
   "source": [
    "exp = sagemaker.HyperparameterTuningJobAnalytics( hyperparameter_tuning_job_name='pytorch-training-230406-1921')\n",
    "\n",
    "jobs = exp.dataframe()\n",
    "\n",
    "jobs.sort_values('FinalObjectiveValue', ascending=0)"
   ]
  },
  {
   "cell_type": "code",
   "execution_count": 10,
   "id": "82538829-4be3-4836-87c4-6a288c3b13fd",
   "metadata": {},
   "outputs": [
    {
     "name": "stdout",
     "output_type": "stream",
     "text": [
      "\n",
      "2023-04-06 20:09:09 Starting - Found matching resource for reuse\n",
      "2023-04-06 20:09:09 Downloading - Downloading input data\n",
      "2023-04-06 20:09:09 Training - Training image download completed. Training in progress.\n",
      "2023-04-06 20:09:09 Uploading - Uploading generated training model\n",
      "2023-04-06 20:09:09 Completed - Resource retained for reuse\n"
     ]
    }
   ],
   "source": [
    "best_estimator = tuner.best_estimator()"
   ]
  },
  {
   "cell_type": "code",
   "execution_count": 11,
   "id": "4b37fefd-aa0d-4daf-a011-12b1da1b39f9",
   "metadata": {},
   "outputs": [
    {
     "data": {
      "text/plain": [
       "{'_tuning_objective_metric': '\"Test Loss\"',\n",
       " 'batch-size': '\"32\"',\n",
       " 'lr': '0.002385083227823211',\n",
       " 'sagemaker_container_log_level': '20',\n",
       " 'sagemaker_estimator_class_name': '\"PyTorch\"',\n",
       " 'sagemaker_estimator_module': '\"sagemaker.pytorch.estimator\"',\n",
       " 'sagemaker_job_name': '\"pytorch_dementia_hpo-2023-04-06-19-55-31-692\"',\n",
       " 'sagemaker_program': '\"pre_hpo.py\"',\n",
       " 'sagemaker_region': '\"us-east-1\"',\n",
       " 'sagemaker_submit_directory': '\"s3://sagemaker-us-east-1-403723872191/pytorch_dementia_hpo-2023-04-06-19-55-31-692/source/sourcedir.tar.gz\"'}"
      ]
     },
     "execution_count": 11,
     "metadata": {},
     "output_type": "execute_result"
    }
   ],
   "source": [
    "best_estimator.hyperparameters()"
   ]
  },
  {
   "cell_type": "markdown",
   "id": "45a338ef-649a-424f-8d8e-87604fccde11",
   "metadata": {},
   "source": [
    "### 2.2. Tuned Pre-trained model training"
   ]
  },
  {
   "cell_type": "code",
   "execution_count": 21,
   "id": "dae1453c-4a3c-4f58-b12e-c29bd88379cb",
   "metadata": {},
   "outputs": [
    {
     "data": {
      "text/plain": [
       "{'batch-size': 32, 'lr': '0.002385083227823211'}"
      ]
     },
     "execution_count": 21,
     "metadata": {},
     "output_type": "execute_result"
    }
   ],
   "source": [
    "hyperparameters = {\n",
    "    \"batch-size\": int(best_estimator.hyperparameters()['batch-size'].replace('\"', '')),\n",
    "    \"lr\": best_estimator.hyperparameters()['lr']}\n",
    "hyperparameters"
   ]
  },
  {
   "cell_type": "code",
   "execution_count": 10,
   "id": "568df548-ad79-4e90-8050-25d0a4fc3183",
   "metadata": {
    "tags": []
   },
   "outputs": [],
   "source": [
    "rules = [\n",
    "    Rule.sagemaker(rule_configs.vanishing_gradient()),\n",
    "    Rule.sagemaker(rule_configs.overfit()),\n",
    "    Rule.sagemaker(rule_configs.overtraining()),\n",
    "    Rule.sagemaker(rule_configs.poor_weight_initialization()),\n",
    "    ProfilerRule.sagemaker(rule_configs.ProfilerReport()),\n",
    "]"
   ]
  },
  {
   "cell_type": "code",
   "execution_count": 11,
   "id": "ede5574a-ddd4-4892-8066-bc5497d5983a",
   "metadata": {
    "tags": []
   },
   "outputs": [],
   "source": [
    "output_path = f\"s3://{BUCKET}/outputs/\""
   ]
  },
  {
   "cell_type": "code",
   "execution_count": 12,
   "id": "c5394f00-d8fc-4f21-9003-1811d9c86c53",
   "metadata": {
    "tags": []
   },
   "outputs": [
    {
     "name": "stderr",
     "output_type": "stream",
     "text": [
      "WARNING:sagemaker.deprecations:Framework profiling will be deprecated from tensorflow 2.12 and pytorch 2.0 in sagemaker>=2.\n",
      "See: https://sagemaker.readthedocs.io/en/stable/v2.html for details.\n"
     ]
    }
   ],
   "source": [
    "hook_config = DebuggerHookConfig(\n",
    "    s3_output_path=output_path,\n",
    "    collection_configs=[\n",
    "        CollectionConfig(\n",
    "            name=\"CrossEntropyLoss_output\",\n",
    "            parameters={\"include_regex\":\"CrossEntropyLoss_output\",\n",
    "                        \"train.save_interval\": \"1\", \n",
    "                        \"eval.save_interval\": \"1\",\n",
    "                        \"predict.save_interval\": \"1\"\n",
    "            }\n",
    "        )\n",
    "    ],\n",
    "    hook_parameters={\n",
    "        \"train.save_interval\": \"5\",\n",
    "        \"eval.save_interval\": \"1\"\n",
    "    }\n",
    ")\n",
    "\n",
    "profiler_config = ProfilerConfig(\n",
    "    system_monitor_interval_millis=500, framework_profile_params=FrameworkProfile(num_steps=10)\n",
    ")\n",
    "\n",
    "metric_definitions=[\n",
    "    {'Name': 'train:error', 'Regex': 'Train_error=(.*?);'},\n",
    "    {'Name': 'validation:error', 'Regex': 'Valid_error=(.*?);'},\n",
    "    {'Name': 'train:accuracy', 'Regex': 'Train_acc=(.*?);'},\n",
    "    {'Name': 'validation:accuracy', 'Regex': 'Valid_acc=(.*?);'}\n",
    "    ]"
   ]
  },
  {
   "cell_type": "code",
   "execution_count": 13,
   "id": "85310938-5a43-475f-a26d-ae1308e74582",
   "metadata": {
    "tags": []
   },
   "outputs": [],
   "source": [
    "estimator = PyTorch(\n",
    "    entry_point=\"pre_train_model.py\",\n",
    "    base_job_name=\"smdebugger-dementia-pytorch\",\n",
    "    role=role,\n",
    "    hyperparameters=hyperparameters,\n",
    "    instance_count=2,\n",
    "    instance_type=\"ml.m5.2xlarge\",\n",
    "    framework_version=\"1.11.0\",\n",
    "    py_version=\"py38\",\n",
    "    output_path=output_path,\n",
    "    metric_definitions=metric_definitions,\n",
    "    rules=rules,\n",
    "    debugger_hook_config=hook_config,\n",
    "    env={'MMS_DEFAULT_RESPONSE_TIMEOUT': '10800'}\n",
    ")"
   ]
  },
  {
   "cell_type": "code",
   "execution_count": 14,
   "id": "372097d5-e429-43fb-a8fd-0b927af2b3af",
   "metadata": {
    "tags": []
   },
   "outputs": [
    {
     "name": "stderr",
     "output_type": "stream",
     "text": [
      "INFO:sagemaker.image_uris:Defaulting to the only supported framework/algorithm version: latest.\n",
      "INFO:sagemaker.image_uris:Ignoring unnecessary instance type: None.\n",
      "INFO:sagemaker.image_uris:Defaulting to the only supported framework/algorithm version: latest.\n",
      "INFO:sagemaker.image_uris:Ignoring unnecessary instance type: None.\n",
      "INFO:sagemaker.image_uris:Defaulting to the only supported framework/algorithm version: latest.\n",
      "INFO:sagemaker.image_uris:Ignoring unnecessary instance type: None.\n",
      "INFO:sagemaker.image_uris:Defaulting to the only supported framework/algorithm version: latest.\n",
      "INFO:sagemaker.image_uris:Ignoring unnecessary instance type: None.\n",
      "INFO:sagemaker.image_uris:Defaulting to the only supported framework/algorithm version: latest.\n",
      "INFO:sagemaker.image_uris:Ignoring unnecessary instance type: None.\n",
      "INFO:sagemaker.image_uris:image_uri is not presented, retrieving image_uri based on instance_type, framework etc.\n",
      "INFO:sagemaker:Creating training-job with name: smdebugger-dementia-pytorch-2023-04-07-16-34-41-148\n"
     ]
    },
    {
     "name": "stdout",
     "output_type": "stream",
     "text": [
      "2023-04-07 16:34:48 Starting - Starting the training job...\n",
      "2023-04-07 16:35:15 Starting - Preparing the instances for trainingVanishingGradient: InProgress\n",
      "Overfit: InProgress\n",
      "Overtraining: InProgress\n",
      "PoorWeightInitialization: InProgress\n",
      "ProfilerReport: InProgress\n",
      "......\n",
      "2023-04-07 16:36:16 Downloading - Downloading input data...\n",
      "2023-04-07 16:36:51 Training - Downloading the training image......\n",
      "2023-04-07 16:37:51 Training - Training image download completed. Training in progress..\u001b[35mbash: cannot set terminal process group (-1): Inappropriate ioctl for device\u001b[0m\n",
      "\u001b[35mbash: no job control in this shell\u001b[0m\n",
      "\u001b[35m2023-04-07 12:37:47,739 sagemaker-training-toolkit INFO     Imported framework sagemaker_pytorch_container.training\u001b[0m\n",
      "\u001b[35m2023-04-07 12:37:47,741 sagemaker-training-toolkit INFO     No GPUs detected (normal if no gpus installed)\u001b[0m\n",
      "\u001b[35m2023-04-07 12:37:47,743 sagemaker-training-toolkit INFO     No Neurons detected (normal if no neurons installed)\u001b[0m\n",
      "\u001b[35m2023-04-07 12:37:47,754 sagemaker_pytorch_container.training INFO     Block until all host DNS lookups succeed.\u001b[0m\n",
      "\u001b[35m2023-04-07 12:37:47,756 sagemaker_pytorch_container.training INFO     Invoking user training script.\u001b[0m\n",
      "\u001b[35m2023-04-07 12:37:47,990 sagemaker-training-toolkit INFO     No GPUs detected (normal if no gpus installed)\u001b[0m\n",
      "\u001b[35m2023-04-07 12:37:47,993 sagemaker-training-toolkit INFO     No Neurons detected (normal if no neurons installed)\u001b[0m\n",
      "\u001b[35m2023-04-07 12:37:48,007 sagemaker-training-toolkit INFO     No GPUs detected (normal if no gpus installed)\u001b[0m\n",
      "\u001b[35m2023-04-07 12:37:48,009 sagemaker-training-toolkit INFO     No Neurons detected (normal if no neurons installed)\u001b[0m\n",
      "\u001b[35m2023-04-07 12:37:48,024 sagemaker-training-toolkit INFO     No GPUs detected (normal if no gpus installed)\u001b[0m\n",
      "\u001b[35m2023-04-07 12:37:48,026 sagemaker-training-toolkit INFO     No Neurons detected (normal if no neurons installed)\u001b[0m\n",
      "\u001b[35m2023-04-07 12:37:48,037 sagemaker-training-toolkit INFO     Invoking user script\u001b[0m\n",
      "\u001b[35mTraining Env:\u001b[0m\n",
      "\u001b[35m{\n",
      "    \"additional_framework_parameters\": {},\n",
      "    \"channel_input_dirs\": {\n",
      "        \"test\": \"/opt/ml/input/data/test\",\n",
      "        \"train\": \"/opt/ml/input/data/train\",\n",
      "        \"valid\": \"/opt/ml/input/data/valid\"\n",
      "    },\n",
      "    \"current_host\": \"algo-2\",\n",
      "    \"current_instance_group\": \"homogeneousCluster\",\n",
      "    \"current_instance_group_hosts\": [\n",
      "        \"algo-1\",\n",
      "        \"algo-2\"\n",
      "    ],\n",
      "    \"current_instance_type\": \"ml.m5.2xlarge\",\n",
      "    \"distribution_hosts\": [],\n",
      "    \"distribution_instance_groups\": [],\n",
      "    \"framework_module\": \"sagemaker_pytorch_container.training:main\",\n",
      "    \"hosts\": [\n",
      "        \"algo-1\",\n",
      "        \"algo-2\"\n",
      "    ],\n",
      "    \"hyperparameters\": {\n",
      "        \"batch-size\": 32,\n",
      "        \"lr\": \"0.002385083227823211\"\n",
      "    },\n",
      "    \"input_config_dir\": \"/opt/ml/input/config\",\n",
      "    \"input_data_config\": {\n",
      "        \"test\": {\n",
      "            \"TrainingInputMode\": \"File\",\n",
      "            \"S3DistributionType\": \"FullyReplicated\",\n",
      "            \"RecordWrapperType\": \"None\"\n",
      "        },\n",
      "        \"train\": {\n",
      "            \"TrainingInputMode\": \"File\",\n",
      "            \"S3DistributionType\": \"FullyReplicated\",\n",
      "            \"RecordWrapperType\": \"None\"\n",
      "        },\n",
      "        \"valid\": {\n",
      "            \"TrainingInputMode\": \"File\",\n",
      "            \"S3DistributionType\": \"FullyReplicated\",\n",
      "            \"RecordWrapperType\": \"None\"\n",
      "        }\n",
      "    },\n",
      "    \"input_dir\": \"/opt/ml/input\",\n",
      "    \"instance_groups\": [\n",
      "        \"homogeneousCluster\"\n",
      "    ],\n",
      "    \"instance_groups_dict\": {\n",
      "        \"homogeneousCluster\": {\n",
      "            \"instance_group_name\": \"homogeneousCluster\",\n",
      "            \"instance_type\": \"ml.m5.2xlarge\",\n",
      "            \"hosts\": [\n",
      "                \"algo-1\",\n",
      "                \"algo-2\"\n",
      "            ]\n",
      "        }\n",
      "    },\n",
      "    \"is_hetero\": false,\n",
      "    \"is_master\": false,\n",
      "    \"is_modelparallel_enabled\": null,\n",
      "    \"is_smddpmprun_installed\": false,\n",
      "    \"job_name\": \"smdebugger-dementia-pytorch-2023-04-07-16-34-41-148\",\n",
      "    \"log_level\": 20,\n",
      "    \"master_hostname\": \"algo-1\",\n",
      "    \"model_dir\": \"/opt/ml/model\",\n",
      "    \"module_dir\": \"s3://capstone-us-data/smdebugger-dementia-pytorch-2023-04-07-16-34-41-148/source/sourcedir.tar.gz\",\n",
      "    \"module_name\": \"pre_train_model\",\n",
      "    \"network_interface_name\": \"eth0\",\n",
      "    \"num_cpus\": 8,\n",
      "    \"num_gpus\": 0,\n",
      "    \"num_neurons\": 0,\n",
      "    \"output_data_dir\": \"/opt/ml/output/data\",\n",
      "    \"output_dir\": \"/opt/ml/output\",\n",
      "    \"output_intermediate_dir\": \"/opt/ml/output/intermediate\",\n",
      "    \"resource_config\": {\n",
      "        \"current_host\": \"algo-2\",\n",
      "        \"current_instance_type\": \"ml.m5.2xlarge\",\n",
      "        \"current_group_name\": \"homogeneousCluster\",\n",
      "        \"hosts\": [\n",
      "            \"algo-1\",\n",
      "            \"algo-2\"\n",
      "        ],\n",
      "        \"instance_groups\": [\n",
      "            {\n",
      "                \"instance_group_name\": \"homogeneousCluster\",\n",
      "                \"instance_type\": \"ml.m5.2xlarge\",\n",
      "                \"hosts\": [\n",
      "                    \"algo-1\",\n",
      "                    \"algo-2\"\n",
      "                ]\n",
      "            }\n",
      "        ],\n",
      "        \"network_interface_name\": \"eth0\"\n",
      "    },\n",
      "    \"user_entry_point\": \"pre_train_model.py\"\u001b[0m\n",
      "\u001b[35m}\u001b[0m\n",
      "\u001b[35mEnvironment variables:\u001b[0m\n",
      "\u001b[35mSM_HOSTS=[\"algo-1\",\"algo-2\"]\u001b[0m\n",
      "\u001b[35mSM_NETWORK_INTERFACE_NAME=eth0\u001b[0m\n",
      "\u001b[35mSM_HPS={\"batch-size\":32,\"lr\":\"0.002385083227823211\"}\u001b[0m\n",
      "\u001b[35mSM_USER_ENTRY_POINT=pre_train_model.py\u001b[0m\n",
      "\u001b[35mSM_FRAMEWORK_PARAMS={}\u001b[0m\n",
      "\u001b[35mSM_RESOURCE_CONFIG={\"current_group_name\":\"homogeneousCluster\",\"current_host\":\"algo-2\",\"current_instance_type\":\"ml.m5.2xlarge\",\"hosts\":[\"algo-1\",\"algo-2\"],\"instance_groups\":[{\"hosts\":[\"algo-1\",\"algo-2\"],\"instance_group_name\":\"homogeneousCluster\",\"instance_type\":\"ml.m5.2xlarge\"}],\"network_interface_name\":\"eth0\"}\u001b[0m\n",
      "\u001b[35mSM_INPUT_DATA_CONFIG={\"test\":{\"RecordWrapperType\":\"None\",\"S3DistributionType\":\"FullyReplicated\",\"TrainingInputMode\":\"File\"},\"train\":{\"RecordWrapperType\":\"None\",\"S3DistributionType\":\"FullyReplicated\",\"TrainingInputMode\":\"File\"},\"valid\":{\"RecordWrapperType\":\"None\",\"S3DistributionType\":\"FullyReplicated\",\"TrainingInputMode\":\"File\"}}\u001b[0m\n",
      "\u001b[35mSM_OUTPUT_DATA_DIR=/opt/ml/output/data\u001b[0m\n",
      "\u001b[35mSM_CHANNELS=[\"test\",\"train\",\"valid\"]\u001b[0m\n",
      "\u001b[35mSM_CURRENT_HOST=algo-2\u001b[0m\n",
      "\u001b[35mSM_CURRENT_INSTANCE_TYPE=ml.m5.2xlarge\u001b[0m\n",
      "\u001b[35mSM_CURRENT_INSTANCE_GROUP=homogeneousCluster\u001b[0m\n",
      "\u001b[35mSM_CURRENT_INSTANCE_GROUP_HOSTS=[\"algo-1\",\"algo-2\"]\u001b[0m\n",
      "\u001b[35mSM_INSTANCE_GROUPS=[\"homogeneousCluster\"]\u001b[0m\n",
      "\u001b[35mSM_INSTANCE_GROUPS_DICT={\"homogeneousCluster\":{\"hosts\":[\"algo-1\",\"algo-2\"],\"instance_group_name\":\"homogeneousCluster\",\"instance_type\":\"ml.m5.2xlarge\"}}\u001b[0m\n",
      "\u001b[35mSM_DISTRIBUTION_INSTANCE_GROUPS=[]\u001b[0m\n",
      "\u001b[35mSM_IS_HETERO=false\u001b[0m\n",
      "\u001b[35mSM_MODULE_NAME=pre_train_model\u001b[0m\n",
      "\u001b[35mSM_LOG_LEVEL=20\u001b[0m\n",
      "\u001b[35mSM_FRAMEWORK_MODULE=sagemaker_pytorch_container.training:main\u001b[0m\n",
      "\u001b[35mSM_INPUT_DIR=/opt/ml/input\u001b[0m\n",
      "\u001b[35mSM_INPUT_CONFIG_DIR=/opt/ml/input/config\u001b[0m\n",
      "\u001b[35mSM_OUTPUT_DIR=/opt/ml/output\u001b[0m\n",
      "\u001b[35mSM_NUM_CPUS=8\u001b[0m\n",
      "\u001b[35mSM_NUM_GPUS=0\u001b[0m\n",
      "\u001b[35mSM_NUM_NEURONS=0\u001b[0m\n",
      "\u001b[35mSM_MODEL_DIR=/opt/ml/model\u001b[0m\n",
      "\u001b[35mSM_MODULE_DIR=s3://capstone-us-data/smdebugger-dementia-pytorch-2023-04-07-16-34-41-148/source/sourcedir.tar.gz\u001b[0m\n",
      "\u001b[35mSM_TRAINING_ENV={\"additional_framework_parameters\":{},\"channel_input_dirs\":{\"test\":\"/opt/ml/input/data/test\",\"train\":\"/opt/ml/input/data/train\",\"valid\":\"/opt/ml/input/data/valid\"},\"current_host\":\"algo-2\",\"current_instance_group\":\"homogeneousCluster\",\"current_instance_group_hosts\":[\"algo-1\",\"algo-2\"],\"current_instance_type\":\"ml.m5.2xlarge\",\"distribution_hosts\":[],\"distribution_instance_groups\":[],\"framework_module\":\"sagemaker_pytorch_container.training:main\",\"hosts\":[\"algo-1\",\"algo-2\"],\"hyperparameters\":{\"batch-size\":32,\"lr\":\"0.002385083227823211\"},\"input_config_dir\":\"/opt/ml/input/config\",\"input_data_config\":{\"test\":{\"RecordWrapperType\":\"None\",\"S3DistributionType\":\"FullyReplicated\",\"TrainingInputMode\":\"File\"},\"train\":{\"RecordWrapperType\":\"None\",\"S3DistributionType\":\"FullyReplicated\",\"TrainingInputMode\":\"File\"},\"valid\":{\"RecordWrapperType\":\"None\",\"S3DistributionType\":\"FullyReplicated\",\"TrainingInputMode\":\"File\"}},\"input_dir\":\"/opt/ml/input\",\"instance_groups\":[\"homogeneousCluster\"],\"instance_groups_dict\":{\"homogeneousCluster\":{\"hosts\":[\"algo-1\",\"algo-2\"],\"instance_group_name\":\"homogeneousCluster\",\"instance_type\":\"ml.m5.2xlarge\"}},\"is_hetero\":false,\"is_master\":false,\"is_modelparallel_enabled\":null,\"is_smddpmprun_installed\":false,\"job_name\":\"smdebugger-dementia-pytorch-2023-04-07-16-34-41-148\",\"log_level\":20,\"master_hostname\":\"algo-1\",\"model_dir\":\"/opt/ml/model\",\"module_dir\":\"s3://capstone-us-data/smdebugger-dementia-pytorch-2023-04-07-16-34-41-148/source/sourcedir.tar.gz\",\"module_name\":\"pre_train_model\",\"network_interface_name\":\"eth0\",\"num_cpus\":8,\"num_gpus\":0,\"num_neurons\":0,\"output_data_dir\":\"/opt/ml/output/data\",\"output_dir\":\"/opt/ml/output\",\"output_intermediate_dir\":\"/opt/ml/output/intermediate\",\"resource_config\":{\"current_group_name\":\"homogeneousCluster\",\"current_host\":\"algo-2\",\"current_instance_type\":\"ml.m5.2xlarge\",\"hosts\":[\"algo-1\",\"algo-2\"],\"instance_groups\":[{\"hosts\":[\"algo-1\",\"algo-2\"],\"instance_group_name\":\"homogeneousCluster\",\"instance_type\":\"ml.m5.2xlarge\"}],\"network_interface_name\":\"eth0\"},\"user_entry_point\":\"pre_train_model.py\"}\u001b[0m\n",
      "\u001b[35mSM_USER_ARGS=[\"--batch-size\",\"32\",\"--lr\",\"0.002385083227823211\"]\u001b[0m\n",
      "\u001b[35mSM_OUTPUT_INTERMEDIATE_DIR=/opt/ml/output/intermediate\u001b[0m\n",
      "\u001b[35mSM_CHANNEL_TEST=/opt/ml/input/data/test\u001b[0m\n",
      "\u001b[35mSM_CHANNEL_TRAIN=/opt/ml/input/data/train\u001b[0m\n",
      "\u001b[35mSM_CHANNEL_VALID=/opt/ml/input/data/valid\u001b[0m\n",
      "\u001b[35mSM_HP_BATCH-SIZE=32\u001b[0m\n",
      "\u001b[35mSM_HP_LR=0.002385083227823211\u001b[0m\n",
      "\u001b[35mPYTHONPATH=/opt/ml/code:/opt/conda/bin:/opt/conda/lib/python38.zip:/opt/conda/lib/python3.8:/opt/conda/lib/python3.8/lib-dynload:/opt/conda/lib/python3.8/site-packages:/opt/conda/lib/python3.8/site-packages/smdebug-1.0.26b20230214-py3.8.egg:/opt/conda/lib/python3.8/site-packages/pyinstrument-3.4.2-py3.8.egg:/opt/conda/lib/python3.8/site-packages/pyinstrument_cext-0.2.4-py3.8-linux-x86_64.egg\u001b[0m\n",
      "\u001b[35mInvoking script with the following command:\u001b[0m\n",
      "\u001b[35m/opt/conda/bin/python3.8 pre_train_model.py --batch-size 32 --lr 0.002385083227823211\u001b[0m\n",
      "\u001b[35m2023-04-07 12:37:48,556 sagemaker-training-toolkit INFO     Exceptions not imported for SageMaker TF as Tensorflow is not installed.\u001b[0m\n",
      "\u001b[34mbash: cannot set terminal process group (-1): Inappropriate ioctl for device\u001b[0m\n",
      "\u001b[34mbash: no job control in this shell\u001b[0m\n",
      "\u001b[34m2023-04-07 12:37:48,785 sagemaker-training-toolkit INFO     Imported framework sagemaker_pytorch_container.training\u001b[0m\n",
      "\u001b[34m2023-04-07 12:37:48,787 sagemaker-training-toolkit INFO     No GPUs detected (normal if no gpus installed)\u001b[0m\n",
      "\u001b[34m2023-04-07 12:37:48,789 sagemaker-training-toolkit INFO     No Neurons detected (normal if no neurons installed)\u001b[0m\n",
      "\u001b[34m2023-04-07 12:37:48,800 sagemaker_pytorch_container.training INFO     Block until all host DNS lookups succeed.\u001b[0m\n",
      "\u001b[34m2023-04-07 12:37:48,802 sagemaker_pytorch_container.training INFO     Invoking user training script.\u001b[0m\n",
      "\u001b[34m2023-04-07 12:37:49,028 sagemaker-training-toolkit INFO     No GPUs detected (normal if no gpus installed)\u001b[0m\n",
      "\u001b[34m2023-04-07 12:37:49,030 sagemaker-training-toolkit INFO     No Neurons detected (normal if no neurons installed)\u001b[0m\n",
      "\u001b[34m2023-04-07 12:37:49,043 sagemaker-training-toolkit INFO     No GPUs detected (normal if no gpus installed)\u001b[0m\n",
      "\u001b[34m2023-04-07 12:37:49,046 sagemaker-training-toolkit INFO     No Neurons detected (normal if no neurons installed)\u001b[0m\n",
      "\u001b[34m2023-04-07 12:37:49,060 sagemaker-training-toolkit INFO     No GPUs detected (normal if no gpus installed)\u001b[0m\n",
      "\u001b[34m2023-04-07 12:37:49,062 sagemaker-training-toolkit INFO     No Neurons detected (normal if no neurons installed)\u001b[0m\n",
      "\u001b[34m2023-04-07 12:37:49,073 sagemaker-training-toolkit INFO     Invoking user script\u001b[0m\n",
      "\u001b[34mTraining Env:\u001b[0m\n",
      "\u001b[34m{\n",
      "    \"additional_framework_parameters\": {},\n",
      "    \"channel_input_dirs\": {\n",
      "        \"test\": \"/opt/ml/input/data/test\",\n",
      "        \"train\": \"/opt/ml/input/data/train\",\n",
      "        \"valid\": \"/opt/ml/input/data/valid\"\n",
      "    },\n",
      "    \"current_host\": \"algo-1\",\n",
      "    \"current_instance_group\": \"homogeneousCluster\",\n",
      "    \"current_instance_group_hosts\": [\n",
      "        \"algo-1\",\n",
      "        \"algo-2\"\n",
      "    ],\n",
      "    \"current_instance_type\": \"ml.m5.2xlarge\",\n",
      "    \"distribution_hosts\": [],\n",
      "    \"distribution_instance_groups\": [],\n",
      "    \"framework_module\": \"sagemaker_pytorch_container.training:main\",\n",
      "    \"hosts\": [\n",
      "        \"algo-1\",\n",
      "        \"algo-2\"\n",
      "    ],\n",
      "    \"hyperparameters\": {\n",
      "        \"batch-size\": 32,\n",
      "        \"lr\": \"0.002385083227823211\"\n",
      "    },\n",
      "    \"input_config_dir\": \"/opt/ml/input/config\",\n",
      "    \"input_data_config\": {\n",
      "        \"test\": {\n",
      "            \"TrainingInputMode\": \"File\",\n",
      "            \"S3DistributionType\": \"FullyReplicated\",\n",
      "            \"RecordWrapperType\": \"None\"\n",
      "        },\n",
      "        \"train\": {\n",
      "            \"TrainingInputMode\": \"File\",\n",
      "            \"S3DistributionType\": \"FullyReplicated\",\n",
      "            \"RecordWrapperType\": \"None\"\n",
      "        },\n",
      "        \"valid\": {\n",
      "            \"TrainingInputMode\": \"File\",\n",
      "            \"S3DistributionType\": \"FullyReplicated\",\n",
      "            \"RecordWrapperType\": \"None\"\n",
      "        }\n",
      "    },\n",
      "    \"input_dir\": \"/opt/ml/input\",\n",
      "    \"instance_groups\": [\n",
      "        \"homogeneousCluster\"\n",
      "    ],\n",
      "    \"instance_groups_dict\": {\n",
      "        \"homogeneousCluster\": {\n",
      "            \"instance_group_name\": \"homogeneousCluster\",\n",
      "            \"instance_type\": \"ml.m5.2xlarge\",\n",
      "            \"hosts\": [\n",
      "                \"algo-1\",\n",
      "                \"algo-2\"\n",
      "            ]\n",
      "        }\n",
      "    },\n",
      "    \"is_hetero\": false,\n",
      "    \"is_master\": true,\n",
      "    \"is_modelparallel_enabled\": null,\n",
      "    \"is_smddpmprun_installed\": false,\n",
      "    \"job_name\": \"smdebugger-dementia-pytorch-2023-04-07-16-34-41-148\",\n",
      "    \"log_level\": 20,\n",
      "    \"master_hostname\": \"algo-1\",\n",
      "    \"model_dir\": \"/opt/ml/model\",\n",
      "    \"module_dir\": \"s3://capstone-us-data/smdebugger-dementia-pytorch-2023-04-07-16-34-41-148/source/sourcedir.tar.gz\",\n",
      "    \"module_name\": \"pre_train_model\",\n",
      "    \"network_interface_name\": \"eth0\",\n",
      "    \"num_cpus\": 8,\n",
      "    \"num_gpus\": 0,\n",
      "    \"num_neurons\": 0,\n",
      "    \"output_data_dir\": \"/opt/ml/output/data\",\n",
      "    \"output_dir\": \"/opt/ml/output\",\n",
      "    \"output_intermediate_dir\": \"/opt/ml/output/intermediate\",\n",
      "    \"resource_config\": {\n",
      "        \"current_host\": \"algo-1\",\n",
      "        \"current_instance_type\": \"ml.m5.2xlarge\",\n",
      "        \"current_group_name\": \"homogeneousCluster\",\n",
      "        \"hosts\": [\n",
      "            \"algo-1\",\n",
      "            \"algo-2\"\n",
      "        ],\n",
      "        \"instance_groups\": [\n",
      "            {\n",
      "                \"instance_group_name\": \"homogeneousCluster\",\n",
      "                \"instance_type\": \"ml.m5.2xlarge\",\n",
      "                \"hosts\": [\n",
      "                    \"algo-1\",\n",
      "                    \"algo-2\"\n",
      "                ]\n",
      "            }\n",
      "        ],\n",
      "        \"network_interface_name\": \"eth0\"\n",
      "    },\n",
      "    \"user_entry_point\": \"pre_train_model.py\"\u001b[0m\n",
      "\u001b[34m}\u001b[0m\n",
      "\u001b[34mEnvironment variables:\u001b[0m\n",
      "\u001b[34mSM_HOSTS=[\"algo-1\",\"algo-2\"]\u001b[0m\n",
      "\u001b[34mSM_NETWORK_INTERFACE_NAME=eth0\u001b[0m\n",
      "\u001b[34mSM_HPS={\"batch-size\":32,\"lr\":\"0.002385083227823211\"}\u001b[0m\n",
      "\u001b[34mSM_USER_ENTRY_POINT=pre_train_model.py\u001b[0m\n",
      "\u001b[34mSM_FRAMEWORK_PARAMS={}\u001b[0m\n",
      "\u001b[34mSM_RESOURCE_CONFIG={\"current_group_name\":\"homogeneousCluster\",\"current_host\":\"algo-1\",\"current_instance_type\":\"ml.m5.2xlarge\",\"hosts\":[\"algo-1\",\"algo-2\"],\"instance_groups\":[{\"hosts\":[\"algo-1\",\"algo-2\"],\"instance_group_name\":\"homogeneousCluster\",\"instance_type\":\"ml.m5.2xlarge\"}],\"network_interface_name\":\"eth0\"}\u001b[0m\n",
      "\u001b[34mSM_INPUT_DATA_CONFIG={\"test\":{\"RecordWrapperType\":\"None\",\"S3DistributionType\":\"FullyReplicated\",\"TrainingInputMode\":\"File\"},\"train\":{\"RecordWrapperType\":\"None\",\"S3DistributionType\":\"FullyReplicated\",\"TrainingInputMode\":\"File\"},\"valid\":{\"RecordWrapperType\":\"None\",\"S3DistributionType\":\"FullyReplicated\",\"TrainingInputMode\":\"File\"}}\u001b[0m\n",
      "\u001b[34mSM_OUTPUT_DATA_DIR=/opt/ml/output/data\u001b[0m\n",
      "\u001b[34mSM_CHANNELS=[\"test\",\"train\",\"valid\"]\u001b[0m\n",
      "\u001b[34mSM_CURRENT_HOST=algo-1\u001b[0m\n",
      "\u001b[34mSM_CURRENT_INSTANCE_TYPE=ml.m5.2xlarge\u001b[0m\n",
      "\u001b[34mSM_CURRENT_INSTANCE_GROUP=homogeneousCluster\u001b[0m\n",
      "\u001b[34mSM_CURRENT_INSTANCE_GROUP_HOSTS=[\"algo-1\",\"algo-2\"]\u001b[0m\n",
      "\u001b[34mSM_INSTANCE_GROUPS=[\"homogeneousCluster\"]\u001b[0m\n",
      "\u001b[34mSM_INSTANCE_GROUPS_DICT={\"homogeneousCluster\":{\"hosts\":[\"algo-1\",\"algo-2\"],\"instance_group_name\":\"homogeneousCluster\",\"instance_type\":\"ml.m5.2xlarge\"}}\u001b[0m\n",
      "\u001b[34mSM_DISTRIBUTION_INSTANCE_GROUPS=[]\u001b[0m\n",
      "\u001b[34mSM_IS_HETERO=false\u001b[0m\n",
      "\u001b[34mSM_MODULE_NAME=pre_train_model\u001b[0m\n",
      "\u001b[34mSM_LOG_LEVEL=20\u001b[0m\n",
      "\u001b[34mSM_FRAMEWORK_MODULE=sagemaker_pytorch_container.training:main\u001b[0m\n",
      "\u001b[34mSM_INPUT_DIR=/opt/ml/input\u001b[0m\n",
      "\u001b[34mSM_INPUT_CONFIG_DIR=/opt/ml/input/config\u001b[0m\n",
      "\u001b[34mSM_OUTPUT_DIR=/opt/ml/output\u001b[0m\n",
      "\u001b[34mSM_NUM_CPUS=8\u001b[0m\n",
      "\u001b[34mSM_NUM_GPUS=0\u001b[0m\n",
      "\u001b[34mSM_NUM_NEURONS=0\u001b[0m\n",
      "\u001b[34mSM_MODEL_DIR=/opt/ml/model\u001b[0m\n",
      "\u001b[34mSM_MODULE_DIR=s3://capstone-us-data/smdebugger-dementia-pytorch-2023-04-07-16-34-41-148/source/sourcedir.tar.gz\u001b[0m\n",
      "\u001b[34mSM_TRAINING_ENV={\"additional_framework_parameters\":{},\"channel_input_dirs\":{\"test\":\"/opt/ml/input/data/test\",\"train\":\"/opt/ml/input/data/train\",\"valid\":\"/opt/ml/input/data/valid\"},\"current_host\":\"algo-1\",\"current_instance_group\":\"homogeneousCluster\",\"current_instance_group_hosts\":[\"algo-1\",\"algo-2\"],\"current_instance_type\":\"ml.m5.2xlarge\",\"distribution_hosts\":[],\"distribution_instance_groups\":[],\"framework_module\":\"sagemaker_pytorch_container.training:main\",\"hosts\":[\"algo-1\",\"algo-2\"],\"hyperparameters\":{\"batch-size\":32,\"lr\":\"0.002385083227823211\"},\"input_config_dir\":\"/opt/ml/input/config\",\"input_data_config\":{\"test\":{\"RecordWrapperType\":\"None\",\"S3DistributionType\":\"FullyReplicated\",\"TrainingInputMode\":\"File\"},\"train\":{\"RecordWrapperType\":\"None\",\"S3DistributionType\":\"FullyReplicated\",\"TrainingInputMode\":\"File\"},\"valid\":{\"RecordWrapperType\":\"None\",\"S3DistributionType\":\"FullyReplicated\",\"TrainingInputMode\":\"File\"}},\"input_dir\":\"/opt/ml/input\",\"instance_groups\":[\"homogeneousCluster\"],\"instance_groups_dict\":{\"homogeneousCluster\":{\"hosts\":[\"algo-1\",\"algo-2\"],\"instance_group_name\":\"homogeneousCluster\",\"instance_type\":\"ml.m5.2xlarge\"}},\"is_hetero\":false,\"is_master\":true,\"is_modelparallel_enabled\":null,\"is_smddpmprun_installed\":false,\"job_name\":\"smdebugger-dementia-pytorch-2023-04-07-16-34-41-148\",\"log_level\":20,\"master_hostname\":\"algo-1\",\"model_dir\":\"/opt/ml/model\",\"module_dir\":\"s3://capstone-us-data/smdebugger-dementia-pytorch-2023-04-07-16-34-41-148/source/sourcedir.tar.gz\",\"module_name\":\"pre_train_model\",\"network_interface_name\":\"eth0\",\"num_cpus\":8,\"num_gpus\":0,\"num_neurons\":0,\"output_data_dir\":\"/opt/ml/output/data\",\"output_dir\":\"/opt/ml/output\",\"output_intermediate_dir\":\"/opt/ml/output/intermediate\",\"resource_config\":{\"current_group_name\":\"homogeneousCluster\",\"current_host\":\"algo-1\",\"current_instance_type\":\"ml.m5.2xlarge\",\"hosts\":[\"algo-1\",\"algo-2\"],\"instance_groups\":[{\"hosts\":[\"algo-1\",\"algo-2\"],\"instance_group_name\":\"homogeneousCluster\",\"instance_type\":\"ml.m5.2xlarge\"}],\"network_interface_name\":\"eth0\"},\"user_entry_point\":\"pre_train_model.py\"}\u001b[0m\n",
      "\u001b[34mSM_USER_ARGS=[\"--batch-size\",\"32\",\"--lr\",\"0.002385083227823211\"]\u001b[0m\n",
      "\u001b[34mSM_OUTPUT_INTERMEDIATE_DIR=/opt/ml/output/intermediate\u001b[0m\n",
      "\u001b[34mSM_CHANNEL_TEST=/opt/ml/input/data/test\u001b[0m\n",
      "\u001b[34mSM_CHANNEL_TRAIN=/opt/ml/input/data/train\u001b[0m\n",
      "\u001b[34mSM_CHANNEL_VALID=/opt/ml/input/data/valid\u001b[0m\n",
      "\u001b[34mSM_HP_BATCH-SIZE=32\u001b[0m\n",
      "\u001b[34mSM_HP_LR=0.002385083227823211\u001b[0m\n",
      "\u001b[34mPYTHONPATH=/opt/ml/code:/opt/conda/bin:/opt/conda/lib/python38.zip:/opt/conda/lib/python3.8:/opt/conda/lib/python3.8/lib-dynload:/opt/conda/lib/python3.8/site-packages:/opt/conda/lib/python3.8/site-packages/smdebug-1.0.26b20230214-py3.8.egg:/opt/conda/lib/python3.8/site-packages/pyinstrument-3.4.2-py3.8.egg:/opt/conda/lib/python3.8/site-packages/pyinstrument_cext-0.2.4-py3.8-linux-x86_64.egg\u001b[0m\n",
      "\u001b[34mInvoking script with the following command:\u001b[0m\n",
      "\u001b[34m/opt/conda/bin/python3.8 pre_train_model.py --batch-size 32 --lr 0.002385083227823211\u001b[0m\n",
      "\u001b[34m2023-04-07 12:37:49,569 sagemaker-training-toolkit INFO     Exceptions not imported for SageMaker TF as Tensorflow is not installed.\u001b[0m\n",
      "\u001b[35mDownloading: \"https://download.pytorch.org/models/vgg16-397923af.pth\" to /root/.cache/torch/hub/checkpoints/vgg16-397923af.pth\u001b[0m\n",
      "\u001b[35m0%|          | 0.00/528M [00:00<?, ?B/s]\u001b[0m\n",
      "\u001b[35m7%|▋         | 34.3M/528M [00:00<00:01, 360MB/s]\u001b[0m\n",
      "\u001b[35m13%|█▎        | 69.5M/528M [00:00<00:01, 365MB/s]\u001b[0m\n",
      "\u001b[35m20%|█▉        | 104M/528M [00:00<00:01, 361MB/s]\u001b[0m\n",
      "\u001b[35m27%|██▋       | 140M/528M [00:00<00:01, 366MB/s]\u001b[0m\n",
      "\u001b[34mDownloading: \"https://download.pytorch.org/models/vgg16-397923af.pth\" to /root/.cache/torch/hub/checkpoints/vgg16-397923af.pth\u001b[0m\n",
      "\u001b[34m0%|          | 0.00/528M [00:00<?, ?B/s]\u001b[0m\n",
      "\u001b[34m1%|          | 2.81M/528M [00:00<00:18, 29.1MB/s]\u001b[0m\n",
      "\u001b[34m2%|▏         | 7.98M/528M [00:00<00:12, 43.8MB/s]\u001b[0m\n",
      "\u001b[34m3%|▎         | 14.2M/528M [00:00<00:10, 53.2MB/s]\u001b[0m\n",
      "\u001b[35m34%|███▍      | 179M/528M [00:00<00:00, 382MB/s]\u001b[0m\n",
      "\u001b[35m41%|████      | 216M/528M [00:00<00:00, 382MB/s]\u001b[0m\n",
      "\u001b[35m48%|████▊     | 252M/528M [00:00<00:00, 380MB/s]\u001b[0m\n",
      "\u001b[35m55%|█████▍    | 288M/528M [00:00<00:00, 371MB/s]\u001b[0m\n",
      "\u001b[35m62%|██████▏   | 326M/528M [00:00<00:00, 379MB/s]\u001b[0m\n",
      "\u001b[35m69%|██████▉   | 365M/528M [00:01<00:00, 389MB/s]\u001b[0m\n",
      "\u001b[35m76%|███████▌  | 402M/528M [00:01<00:00, 374MB/s]\u001b[0m\n",
      "\u001b[35m83%|████████▎ | 438M/528M [00:01<00:00, 357MB/s]\u001b[0m\n",
      "\u001b[35m89%|████████▉ | 472M/528M [00:01<00:00, 330MB/s]\u001b[0m\n",
      "\u001b[34m4%|▎         | 19.3M/528M [00:00<00:10, 49.9MB/s]\u001b[0m\n",
      "\u001b[34m5%|▍         | 24.1M/528M [00:00<00:10, 48.0MB/s]\u001b[0m\n",
      "\u001b[34m7%|▋         | 38.6M/528M [00:00<00:06, 81.6MB/s]\u001b[0m\n",
      "\u001b[34m11%|█         | 57.3M/528M [00:00<00:04, 117MB/s]\u001b[0m\n",
      "\u001b[34m14%|█▍        | 75.4M/528M [00:00<00:03, 140MB/s]\u001b[0m\n",
      "\u001b[34m18%|█▊        | 94.6M/528M [00:00<00:02, 159MB/s]\u001b[0m\n",
      "\u001b[34m21%|██▏       | 113M/528M [00:01<00:02, 170MB/s]\u001b[0m\n",
      "\u001b[34m25%|██▍       | 132M/528M [00:01<00:02, 176MB/s]\u001b[0m\n",
      "\u001b[34m28%|██▊       | 150M/528M [00:01<00:02, 182MB/s]\u001b[0m\n",
      "\u001b[34m32%|███▏      | 169M/528M [00:01<00:02, 186MB/s]\u001b[0m\n",
      "\u001b[35m96%|█████████▌| 504M/528M [00:01<00:00, 320MB/s]\u001b[0m\n",
      "\u001b[35m100%|██████████| 528M/528M [00:01<00:00, 353MB/s]\u001b[0m\n",
      "\u001b[35mDevice: cpu\u001b[0m\n",
      "\u001b[34m36%|███▌      | 187M/528M [00:01<00:01, 189MB/s]\u001b[0m\n",
      "\u001b[34m39%|███▉      | 206M/528M [00:01<00:01, 191MB/s]\u001b[0m\n",
      "\u001b[34m43%|████▎     | 224M/528M [00:01<00:01, 191MB/s]\u001b[0m\n",
      "\u001b[34m46%|████▌     | 244M/528M [00:01<00:01, 194MB/s]\u001b[0m\n",
      "\u001b[34m50%|████▉     | 263M/528M [00:01<00:01, 195MB/s]\u001b[0m\n",
      "\u001b[34m53%|█████▎    | 281M/528M [00:01<00:01, 196MB/s]\u001b[0m\n",
      "\u001b[34m57%|█████▋    | 300M/528M [00:02<00:01, 197MB/s]\u001b[0m\n",
      "\u001b[34m60%|██████    | 319M/528M [00:02<00:01, 195MB/s]\u001b[0m\n",
      "\u001b[34m64%|██████▍   | 338M/528M [00:02<00:01, 195MB/s]\u001b[0m\n",
      "\u001b[34m68%|██████▊   | 357M/528M [00:02<00:00, 196MB/s]\u001b[0m\n",
      "\u001b[35m[2023-04-07 12:37:52.807 algo-2:47 INFO utils.py:28] RULE_JOB_STOP_SIGNAL_FILENAME: None\u001b[0m\n",
      "\u001b[35m/opt/conda/lib/python3.8/site-packages/smdebug-1.0.26b20230214-py3.8.egg/smdebug/profiler/system_metrics_reader.py:78: SyntaxWarning: \"is not\" with a literal. Did you mean \"!=\"?\u001b[0m\n",
      "\u001b[35m/opt/conda/lib/python3.8/site-packages/smdebug-1.0.26b20230214-py3.8.egg/smdebug/profiler/system_metrics_reader.py:78: SyntaxWarning: \"is not\" with a literal. Did you mean \"!=\"?\u001b[0m\n",
      "\u001b[35m[2023-04-07 12:37:53.411 algo-2:47 INFO profiler_config_parser.py:111] User has disabled profiler.\u001b[0m\n",
      "\u001b[35m[2023-04-07 12:37:53.411 algo-2:47 INFO json_config.py:92] Creating hook from json_config at /opt/ml/input/config/debughookconfig.json.\u001b[0m\n",
      "\u001b[35m[2023-04-07 12:37:53.411 algo-2:47 INFO hook.py:206] tensorboard_dir has not been set for the hook. SMDebug will not be exporting tensorboard summaries.\u001b[0m\n",
      "\u001b[35m[2023-04-07 12:37:53.412 algo-2:47 INFO hook.py:259] Saving to /opt/ml/output/tensors\u001b[0m\n",
      "\u001b[35m[2023-04-07 12:37:53.412 algo-2:47 INFO state_store.py:77] The checkpoint config file /opt/ml/input/config/checkpointconfig.json does not exist.\u001b[0m\n",
      "\u001b[35m[2023-04-07 12:37:53.413 algo-2:47 INFO hook.py:561] name:classifier.0.weight count_params:51380224\u001b[0m\n",
      "\u001b[35m[2023-04-07 12:37:53.413 algo-2:47 INFO hook.py:561] name:classifier.0.bias count_params:2048\u001b[0m\n",
      "\u001b[35m[2023-04-07 12:37:53.413 algo-2:47 INFO hook.py:561] name:classifier.3.weight count_params:1056768\u001b[0m\n",
      "\u001b[35m[2023-04-07 12:37:53.413 algo-2:47 INFO hook.py:561] name:classifier.3.bias count_params:516\u001b[0m\n",
      "\u001b[35m[2023-04-07 12:37:53.413 algo-2:47 INFO hook.py:561] name:classifier.6.weight count_params:2064\u001b[0m\n",
      "\u001b[35m[2023-04-07 12:37:53.413 algo-2:47 INFO hook.py:561] name:classifier.6.bias count_params:4\u001b[0m\n",
      "\u001b[35m[2023-04-07 12:37:53.413 algo-2:47 INFO hook.py:563] Total Trainable Params: 52441624\u001b[0m\n",
      "\u001b[35m[2023-04-07 12:37:53.413 algo-2:47 INFO hook.py:563] Total Trainable Params: 0\u001b[0m\n",
      "\u001b[35m[2023-04-07 12:37:53.554 algo-2:47 INFO hook.py:427] Monitoring the collections: relu_input, CrossEntropyLoss_output, gradients, losses\u001b[0m\n",
      "\u001b[35m[2023-04-07 12:37:53.558 algo-2:47 INFO hook.py:491] Hook is writing from the hook with pid: 47\u001b[0m\n",
      "\u001b[34m71%|███████   | 376M/528M [00:02<00:00, 195MB/s]\u001b[0m\n",
      "\u001b[34m75%|███████▍  | 395M/528M [00:02<00:00, 196MB/s]\u001b[0m\n",
      "\u001b[34m78%|███████▊  | 413M/528M [00:02<00:00, 195MB/s]\u001b[0m\n",
      "\u001b[34m82%|████████▏ | 432M/528M [00:02<00:00, 191MB/s]\u001b[0m\n",
      "\u001b[34m85%|████████▌ | 450M/528M [00:02<00:00, 191MB/s]\u001b[0m\n",
      "\u001b[34m89%|████████▉ | 469M/528M [00:02<00:00, 193MB/s]\u001b[0m\n",
      "\u001b[34m92%|█████████▏| 488M/528M [00:03<00:00, 194MB/s]\u001b[0m\n",
      "\u001b[34m96%|█████████▌| 506M/528M [00:03<00:00, 194MB/s]\u001b[0m\n",
      "\u001b[34m99%|█████████▉| 525M/528M [00:03<00:00, 194MB/s]\u001b[0m\n",
      "\u001b[34m100%|██████████| 528M/528M [00:03<00:00, 170MB/s]\u001b[0m\n",
      "\u001b[34mDevice: cpu\u001b[0m\n",
      "\u001b[34m[2023-04-07 12:37:55.495 algo-1:47 INFO utils.py:28] RULE_JOB_STOP_SIGNAL_FILENAME: None\u001b[0m\n",
      "\u001b[34m/opt/conda/lib/python3.8/site-packages/smdebug-1.0.26b20230214-py3.8.egg/smdebug/profiler/system_metrics_reader.py:78: SyntaxWarning: \"is not\" with a literal. Did you mean \"!=\"?\u001b[0m\n",
      "\u001b[34m/opt/conda/lib/python3.8/site-packages/smdebug-1.0.26b20230214-py3.8.egg/smdebug/profiler/system_metrics_reader.py:78: SyntaxWarning: \"is not\" with a literal. Did you mean \"!=\"?\u001b[0m\n",
      "\u001b[34m[2023-04-07 12:37:56.101 algo-1:47 INFO profiler_config_parser.py:111] User has disabled profiler.\u001b[0m\n",
      "\u001b[34m[2023-04-07 12:37:56.101 algo-1:47 INFO json_config.py:92] Creating hook from json_config at /opt/ml/input/config/debughookconfig.json.\u001b[0m\n",
      "\u001b[34m[2023-04-07 12:37:56.101 algo-1:47 INFO hook.py:206] tensorboard_dir has not been set for the hook. SMDebug will not be exporting tensorboard summaries.\u001b[0m\n",
      "\u001b[34m[2023-04-07 12:37:56.102 algo-1:47 INFO hook.py:259] Saving to /opt/ml/output/tensors\u001b[0m\n",
      "\u001b[34m[2023-04-07 12:37:56.102 algo-1:47 INFO state_store.py:77] The checkpoint config file /opt/ml/input/config/checkpointconfig.json does not exist.\u001b[0m\n",
      "\u001b[34m[2023-04-07 12:37:56.103 algo-1:47 INFO hook.py:561] name:classifier.0.weight count_params:51380224\u001b[0m\n",
      "\u001b[34m[2023-04-07 12:37:56.103 algo-1:47 INFO hook.py:561] name:classifier.0.bias count_params:2048\u001b[0m\n",
      "\u001b[34m[2023-04-07 12:37:56.103 algo-1:47 INFO hook.py:561] name:classifier.3.weight count_params:1056768\u001b[0m\n",
      "\u001b[34m[2023-04-07 12:37:56.103 algo-1:47 INFO hook.py:561] name:classifier.3.bias count_params:516\u001b[0m\n",
      "\u001b[34m[2023-04-07 12:37:56.103 algo-1:47 INFO hook.py:561] name:classifier.6.weight count_params:2064\u001b[0m\n",
      "\u001b[34m[2023-04-07 12:37:56.103 algo-1:47 INFO hook.py:561] name:classifier.6.bias count_params:4\u001b[0m\n",
      "\u001b[34m[2023-04-07 12:37:56.103 algo-1:47 INFO hook.py:563] Total Trainable Params: 52441624\u001b[0m\n",
      "\u001b[34m[2023-04-07 12:37:56.103 algo-1:47 INFO hook.py:563] Total Trainable Params: 0\u001b[0m\n",
      "\u001b[34m[2023-04-07 12:37:56.239 algo-1:47 INFO hook.py:427] Monitoring the collections: relu_input, losses, CrossEntropyLoss_output, gradients\u001b[0m\n",
      "\u001b[34m[2023-04-07 12:37:56.243 algo-1:47 INFO hook.py:491] Hook is writing from the hook with pid: 47\u001b[0m\n",
      "\u001b[34mEpoch 1/31 . . .\u001b[0m\n",
      "\u001b[35mEpoch 1/31 . . .\u001b[0m\n",
      "\u001b[34mEpoch 2/31 . . .\u001b[0m\n",
      "\u001b[35mEpoch 2/31 . . .\u001b[0m\n",
      "\u001b[34mEpoch 3/31 . . . \u001b[0m\n",
      "\u001b[34mValidation loss is increasing\u001b[0m\n",
      "\u001b[35mEpoch 3/31 . . . \u001b[0m\n",
      "\u001b[35mValidation loss is increasing\u001b[0m\n",
      "\u001b[35mTesting Loss: 0.9197560326488248\u001b[0m\n",
      "\u001b[35mTesting Accuracy: 0.5824863174354965\u001b[0m\n",
      "\u001b[35mINFO:__main__:Testing Loss: 0.9197560326488248\u001b[0m\n",
      "\u001b[35mINFO:__main__:Testing Accuracy: 0.5824863174354965\u001b[0m\n",
      "\u001b[35mModel saved to path: /opt/ml/model/model.pth\u001b[0m\n",
      "\u001b[34mTesting Loss: 0.983525644344124\u001b[0m\n",
      "\u001b[34mTesting Accuracy: 0.5754495699765442\u001b[0m\n",
      "\u001b[34mINFO:__main__:Testing Loss: 0.983525644344124\u001b[0m\n",
      "\u001b[34mINFO:__main__:Testing Accuracy: 0.5754495699765442\u001b[0m\n",
      "\u001b[34mModel saved to path: /opt/ml/model/model.pth\u001b[0m\n",
      "\u001b[35m2023-04-07 13:06:41,328 sagemaker-training-toolkit INFO     Waiting for the process to finish and give a return code.\u001b[0m\n",
      "\u001b[35m2023-04-07 13:06:41,328 sagemaker-training-toolkit INFO     Done waiting for a return code. Received 0 from exiting process.\u001b[0m\n",
      "\u001b[35m2023-04-07 13:06:41,328 sagemaker-training-toolkit INFO     Reporting training SUCCESS\u001b[0m\n",
      "\u001b[34m2023-04-07 13:06:42,358 sagemaker-training-toolkit INFO     Waiting for the process to finish and give a return code.\u001b[0m\n",
      "\u001b[34m2023-04-07 13:06:42,358 sagemaker-training-toolkit INFO     Done waiting for a return code. Received 0 from exiting process.\u001b[0m\n",
      "\u001b[34m2023-04-07 13:06:42,358 sagemaker-training-toolkit INFO     Reporting training SUCCESS\u001b[0m\n",
      "\n",
      "2023-04-07 17:07:38 Uploading - Uploading generated training model\n",
      "2023-04-07 17:08:51 Completed - Training job completed\n",
      "VanishingGradient: NoIssuesFound\n",
      "Overfit: NoIssuesFound\n",
      "Overtraining: NoIssuesFound\n",
      "PoorWeightInitialization: NoIssuesFound\n",
      "ProfilerReport: NoIssuesFound\n",
      "Training seconds: 3894\n",
      "Billable seconds: 3894\n"
     ]
    }
   ],
   "source": [
    "estimator.fit(data_channels, wait=True)"
   ]
  },
  {
   "cell_type": "code",
   "execution_count": 15,
   "id": "983def74-1989-4f4c-8d7d-2c57e6da03f9",
   "metadata": {
    "tags": []
   },
   "outputs": [
    {
     "name": "stdout",
     "output_type": "stream",
     "text": [
      "[2023-04-07 17:15:03.293 pytorch-1-12-gpu-py-ml-g4dn-xlarge-60d67c819515f85736f0b2ea671f:73 INFO s3_trial.py:42] Loading trial debug-output at path s3://capstone-us-data/outputs/smdebugger-dementia-pytorch-2023-04-07-16-34-41-148/debug-output\n",
      "[2023-04-07 17:15:03.966 pytorch-1-12-gpu-py-ml-g4dn-xlarge-60d67c819515f85736f0b2ea671f:73 WARNING s3handler.py:184] Encountered the exception An error occurred while reading from response stream: ('Connection broken: IncompleteRead(0 bytes read, 232 more expected)', IncompleteRead(0 bytes read, 232 more expected)) while reading s3://capstone-us-data/outputs/smdebugger-dementia-pytorch-2023-04-07-16-34-41-148/debug-output/index/000000000/000000000171_worker_0.json . Will retry now\n"
     ]
    }
   ],
   "source": [
    "trial = create_trial(estimator.latest_job_debugger_artifacts_path())"
   ]
  },
  {
   "cell_type": "code",
   "execution_count": 16,
   "id": "f5ebef8f-ec9f-4771-a6ea-6eea184a10cf",
   "metadata": {
    "tags": []
   },
   "outputs": [
    {
     "name": "stdout",
     "output_type": "stream",
     "text": [
      "[2023-04-07 17:15:11.068 pytorch-1-12-gpu-py-ml-g4dn-xlarge-60d67c819515f85736f0b2ea671f:73 INFO trial.py:197] Training has ended, will refresh one final time in 1 sec.\n",
      "[2023-04-07 17:15:12.090 pytorch-1-12-gpu-py-ml-g4dn-xlarge-60d67c819515f85736f0b2ea671f:73 INFO trial.py:210] Loaded all steps\n"
     ]
    },
    {
     "data": {
      "text/plain": [
       "<smdebug.trials.s3_trial.S3Trial object at 0x7f279eb94f10>:(\n",
       "    name=debug-output,\n",
       "    path=s3://capstone-us-data/outputs/smdebugger-dementia-pytorch-2023-04-07-16-34-41-148/debug-output/,\n",
       "    steps=[1, 3, 5, 7, 9, 11, 13, 15, 17, 19, 21, 23, 25, 27, 29, 31, 33, 35, 37, 39, 41, 43, 45, 47, 49, 51, 53, 55, 57, 59, 61, 63, 65, 67, 69, 71, 73, 75, 77, 79, 81, 83, 85, 87, 89, 91, 93, 95, 97, 99, 101, 103, 105, 107, 109, 111, 113, 115, 117, 119, 121, 123, 125, 127, 129, 131, 133, 135, 137, 139, 141, 143, 145, 147, 149, 151, 153, 155, 157, 159, 161, 163, 165, 167, 169, 171, 173, 175, 177, 179, 181, 183, 185, 187, 189, 191, 193, 195, 197, 199, 201, 203, 205, 207, 209, 211, 213, 215, 217, 219, 221, 223, 225, 227, 229, 231, 233, 235, 237, 239, 241, 243, 245, 247, 249, 251, 253, 255, 257, 259, 261, 263, 265, 267, 269, 271, 273, 275, 277, 279, 281, 283, 285, 287, 289, 291, 293, 295, 297, 299, 301, 303, 305, 307, 309, 311, 313, 315, 317, 319, 321, 323, 325, 327, 329, 331, 333, 335, 337, 339, 341, 343, 345, 347, 349, 351, 353, 355, 357, 359, 361, 363, 365, 367, 369, 371, 373, 375, 377, 379, 381, 383, 385, 387, 389, 391, 393, 395, 397, 399, 401, 403, 405, 407, 409, 411, 413, 415, 417, 419, 421, 423, 425, 427, 429, 431, 433, 435, 437, 439, 441, 443, 445, 447, 449, 451, 453, 455, 457, 459, 461, 463, 465, 467, 469, 471, 473, 475, 477, 479, 481, 483, 485, 487, 489, 491, 493, 495, 497, 499, 501, 503, 505, 507, 509, 511, 513, 515, 517, 519, 521, 523, 525, 527, 529, 531, 533, 535, 537, 539, 541, 543, 545, 547, 549, 551, 553, 555, 557, 559, 561, 563, 565, 567, 569, 571, 573, 575, 577, 579, 581, 583, 585, 587, 589, 591, 593, 595, 597, 599, 601, 603, 605, 607, 609, 611, 613, 615, 617, 619, 621, 623, 625, 627, 629, 631, 633, 635, 637, 639, 641, 643, 645, 647, 649, 651, 653, 655, 657, 659, 661, 663, 665, 667, 669, 671, 673, 675, 677, 679, 681, 683, 685, 687, 689, 691, 693, 695, 697, 699, 701, 703, 705, 707, 709, 711, 713, 715, 717, 719, 721, 723, 725, 727, 729, 731, 733, 735, 737, 739, 741, 743, 745, 747, 749, 751, 753, 755, 757, 759, 761, 763, 765, 767, 769, 771, 773, 775, 777, 779, 781, 783, 785, 787, 789, 791, 793, 795, 797, 799, 801, 803, 805, 807, 809, 811, 813, 815, 817, 819, 821, 823, 825, 827, 829, 831, 833, 835, 837, 839, 841, 843, 845, 847, 849, 851, 853, 855, 857, 859, 861, 863, 865, 867, 869, 871, 873, 875, 877, 879, 881, 883, 885, 887, 889, 891, 893, 895, 897, 899, 901, 903, 905, 907, 909, 911, 913, 915, 917, 919, 921, 923, 925, 927, 929, 931, 933, 935, 937, 939, 941, 943, 945, 947, 949, 951, 953, 955, 957, 959, 961, 963, 965, 967, 969, 971, 973, 975, 977, 979, 981, 983, 985, 987, 989, 991, 993, 995, 997, 999, 1001, 1003, 1005, 1007, 1009, 1011, 1013, 1015, 1017, 1019, 1021, 1023, 1025, 1027, 1029, 1031, 1033, 1035, 1037, 1039, 1041, 1043, 1045],\n",
       "    collections=['losses', 'biases', 'gradients', 'weights', 'default', 'all', 'CrossEntropyLoss_output', 'relu_input'],\n",
       "    tensor_names=['CrossEntropyLoss_output_0'],\n",
       ")"
      ]
     },
     "execution_count": 16,
     "metadata": {},
     "output_type": "execute_result"
    }
   ],
   "source": [
    "trial"
   ]
  },
  {
   "cell_type": "code",
   "execution_count": 17,
   "id": "75fe2d39-af33-48cb-bc10-e806f3a24b1b",
   "metadata": {
    "tags": []
   },
   "outputs": [
    {
     "name": "stdout",
     "output_type": "stream",
     "text": [
      "loaded TRAIN data\n",
      "loaded EVAL data\n",
      "completed TRAIN plot\n",
      "completed EVAL plot\n"
     ]
    },
    {
     "data": {
      "image/png": "[encoded data removed]",
      "text/plain": [
       "<Figure size 720x504 with 1 Axes>"
      ]
     },
     "metadata": {
      "needs_background": "light"
     },
     "output_type": "display_data"
    }
   ],
   "source": [
    "def get_data(trial, tname, mode):\n",
    "    tensor = trial.tensor(tname)\n",
    "    steps = tensor.steps(mode=mode)\n",
    "    vals = []\n",
    "    for s in steps:\n",
    "        vals.append(tensor.value(s, mode=mode))\n",
    "    return steps, vals\n",
    "\n",
    "def plot_tensor(trial, tensor_name):\n",
    "\n",
    "    steps_train, vals_train = get_data(trial, tensor_name, mode=ModeKeys.TRAIN)\n",
    "    print(\"loaded TRAIN data\")\n",
    "    steps_eval, vals_eval = get_data(trial, tensor_name, mode=ModeKeys.EVAL)\n",
    "    print(\"loaded EVAL data\")\n",
    "\n",
    "    fig = plt.figure(figsize=(10, 7))\n",
    "    host = host_subplot(111)\n",
    "\n",
    "    par = host.twiny()\n",
    "\n",
    "    host.set_xlabel(\"Steps (TRAIN)\")\n",
    "    par.set_xlabel(\"Steps (EVAL)\")\n",
    "    host.set_ylabel(tensor_name)\n",
    "\n",
    "    (p1,) = host.plot(steps_train, vals_train, label=tensor_name)\n",
    "    print(\"completed TRAIN plot\")\n",
    "    (p2,) = par.plot(steps_eval, vals_eval, label=\"val_\" + tensor_name)\n",
    "    print(\"completed EVAL plot\")\n",
    "    leg = plt.legend()\n",
    "\n",
    "    host.xaxis.get_label().set_color(p1.get_color())\n",
    "    leg.texts[0].set_color(p1.get_color())\n",
    "\n",
    "    par.xaxis.get_label().set_color(p2.get_color())\n",
    "    leg.texts[1].set_color(p2.get_color())\n",
    "\n",
    "    plt.ylabel(tensor_name)\n",
    "\n",
    "    plt.show()\n",
    "\n",
    "plot_tensor(trial, \"CrossEntropyLoss_output_0\")"
   ]
  },
  {
   "cell_type": "markdown",
   "id": "604c1c8d-3f03-43fd-82d9-90ebf55bcc15",
   "metadata": {},
   "source": [
    "### 2.3. Pre-trained model deployment and testing"
   ]
  },
  {
   "cell_type": "code",
   "execution_count": 41,
   "id": "b35cdcdb-6ee0-4a62-9a3a-8bb6a3644252",
   "metadata": {},
   "outputs": [
    {
     "name": "stderr",
     "output_type": "stream",
     "text": [
      "INFO:sagemaker:Creating model with name: smdebugger-dementia-pytorch-2023-04-08-01-56-56-044\n",
      "INFO:sagemaker:Creating endpoint-config with name smdebugger-dementia-pytorch-2023-04-08-01-56-56-044\n",
      "INFO:sagemaker:Creating endpoint with name smdebugger-dementia-pytorch-2023-04-08-01-56-56-044\n"
     ]
    },
    {
     "name": "stdout",
     "output_type": "stream",
     "text": [
      "------!"
     ]
    }
   ],
   "source": [
    "predictor=estimator.deploy(\n",
    "    initial_instance_count=1,\n",
    "    instance_type=\"ml.m5.2xlarge\")"
   ]
  },
  {
   "cell_type": "code",
   "execution_count": 63,
   "id": "ec18c292-d136-4d8a-b4fb-2467974fc1ed",
   "metadata": {},
   "outputs": [],
   "source": [
    "ROOT = \"/root/Alzheimer_s Dataset/test/\"\n",
    "\n",
    "transform = transforms.Compose([\n",
    "        transforms.Resize(200), \n",
    "        transforms.ToTensor(),\n",
    "        transforms.Normalize((0.497,0.402,0.425), (0.308, 0.325, 0.301))\n",
    "    ])\n",
    "\n",
    "data_image = ImageFolder(root=ROOT, transform=transform)\n",
    "data_loader = torch.utils.data.DataLoader(data_image, batch_size=1, shuffle=True)"
   ]
  },
  {
   "cell_type": "code",
   "execution_count": 91,
   "id": "b8f46e77-31ac-4bc7-9526-be447df56d93",
   "metadata": {},
   "outputs": [],
   "source": [
    "# get the labels\n",
    "labels = []\n",
    "predictions = []\n",
    "for data, label in data_loader:\n",
    "    labels.append(int(label))\n",
    "    response = predictor.predict(data)\n",
    "    predictions.append(np.argmax(response[0]))"
   ]
  },
  {
   "cell_type": "code",
   "execution_count": 103,
   "id": "786bdc9c-87e2-409e-ab2f-fbeb2637fc40",
   "metadata": {
    "tags": []
   },
   "outputs": [
    {
     "name": "stdout",
     "output_type": "stream",
     "text": [
      "Confusion Matrix\n",
      "          Pred_Mild  Pred_Mod  Pred_Non  Pred_VeryMild\n",
      "Mild              0         0        19            160\n",
      "Moderate          0         0         2             10\n",
      "Non               0         0       427            213\n",
      "VeryMild          0         0       139            309\n",
      "\n",
      "Test accuracy score: 57.545%\n"
     ]
    }
   ],
   "source": [
    "print(\"Confusion Matrix\")\n",
    "print(pd.DataFrame(confusion_matrix(labels, predictions), \n",
    "                   columns=['Pred_Mild', 'Pred_Mod', 'Pred_Non', 'Pred_VeryMild'], \n",
    "                   index=['Mild', 'Moderate', 'Non', 'VeryMild']))\n",
    "print(\"\")\n",
    "print(\"Test accuracy score: {:.3f}%\".format(100*accuracy_score(labels, predictions)))"
   ]
  },
  {
   "cell_type": "code",
   "execution_count": 104,
   "id": "cff13907-a5b1-4778-a543-38ebc93d884c",
   "metadata": {},
   "outputs": [
    {
     "name": "stderr",
     "output_type": "stream",
     "text": [
      "INFO:sagemaker:Deleting endpoint configuration with name: smdebugger-dementia-pytorch-2023-04-08-01-56-56-044\n",
      "INFO:sagemaker:Deleting endpoint with name: smdebugger-dementia-pytorch-2023-04-08-01-56-56-044\n"
     ]
    }
   ],
   "source": [
    "predictor.delete_endpoint()"
   ]
  },
  {
   "cell_type": "markdown",
   "id": "a06a19f6-9395-4563-8007-86d5bca31872",
   "metadata": {},
   "source": [
    "## 3. CNN model"
   ]
  },
  {
   "cell_type": "markdown",
   "id": "8e51d964-dad7-4c17-b6bb-f8747b244278",
   "metadata": {},
   "source": [
    "### 3.1. Model training"
   ]
  },
  {
   "cell_type": "code",
   "execution_count": 32,
   "id": "33f3ccbf-2917-489e-a98a-2de7d021868a",
   "metadata": {
    "tags": []
   },
   "outputs": [
    {
     "data": {
      "text/plain": [
       "{'batch-size': 120, 'lr': '0.0011', 'epochs': '100'}"
      ]
     },
     "execution_count": 32,
     "metadata": {},
     "output_type": "execute_result"
    }
   ],
   "source": [
    "hyperparameters = {'batch-size': 120, 'lr': '0.0011', 'epochs':'100'}\n",
    "hyperparameters"
   ]
  },
  {
   "cell_type": "code",
   "execution_count": 33,
   "id": "964bda1b-9232-4fa7-9e2e-8fc8988283a3",
   "metadata": {
    "tags": []
   },
   "outputs": [],
   "source": [
    "rules = [\n",
    "    Rule.sagemaker(rule_configs.vanishing_gradient()),\n",
    "    Rule.sagemaker(rule_configs.overfit()),\n",
    "    Rule.sagemaker(rule_configs.overtraining()),\n",
    "    Rule.sagemaker(rule_configs.poor_weight_initialization()),\n",
    "    ProfilerRule.sagemaker(rule_configs.ProfilerReport()),\n",
    "]"
   ]
  },
  {
   "cell_type": "code",
   "execution_count": 34,
   "id": "e1ac6d7d-e725-4a6d-ae03-12184ffca95f",
   "metadata": {
    "tags": []
   },
   "outputs": [],
   "source": [
    "output_path = f\"s3://{BUCKET}/outputs/\""
   ]
  },
  {
   "cell_type": "code",
   "execution_count": 35,
   "id": "59f165ff-04f5-468f-9d69-abcdfc3440a6",
   "metadata": {
    "tags": []
   },
   "outputs": [
    {
     "name": "stderr",
     "output_type": "stream",
     "text": [
      "WARNING:sagemaker.deprecations:Framework profiling will be deprecated from tensorflow 2.12 and pytorch 2.0 in sagemaker>=2.\n",
      "See: https://sagemaker.readthedocs.io/en/stable/v2.html for details.\n"
     ]
    }
   ],
   "source": [
    "hook_config = DebuggerHookConfig(\n",
    "    s3_output_path=output_path,\n",
    "    collection_configs=[\n",
    "        CollectionConfig(\n",
    "            name=\"CrossEntropyLoss_output\",\n",
    "            parameters={\"include_regex\":\"CrossEntropyLoss_output\",\n",
    "                        \"train.save_interval\": \"1\", \n",
    "                        \"eval.save_interval\": \"1\",\n",
    "                        \"predict.save_interval\": \"1\"\n",
    "            }\n",
    "        )\n",
    "    ],\n",
    "    hook_parameters={\n",
    "        \"train.save_interval\": \"5\",\n",
    "        \"eval.save_interval\": \"1\"\n",
    "    }\n",
    ")\n",
    "\n",
    "profiler_config = ProfilerConfig(\n",
    "    system_monitor_interval_millis=500, framework_profile_params=FrameworkProfile(num_steps=10)\n",
    ")\n",
    "\n",
    "metric_definitions=[\n",
    "    {'Name': 'train:error', 'Regex': 'Train_error=(.*?);'},\n",
    "    {'Name': 'validation:error', 'Regex': 'Valid_error=(.*?);'},\n",
    "    {'Name': 'train:accuracy', 'Regex': 'Train_acc=(.*?);'},\n",
    "    {'Name': 'validation:accuracy', 'Regex': 'Valid_acc=(.*?);'}\n",
    "    ]"
   ]
  },
  {
   "cell_type": "code",
   "execution_count": 38,
   "id": "311a84f7-1866-4698-8b0e-a480bf72801c",
   "metadata": {
    "tags": []
   },
   "outputs": [],
   "source": [
    "estimator = PyTorch(\n",
    "    entry_point=\"train_model.py\",\n",
    "    base_job_name=\"smdebugger-dementia-pytorch-cnn\",\n",
    "    role=role,\n",
    "    hyperparameters=hyperparameters,\n",
    "    instance_count=2,\n",
    "    instance_type=\"ml.m5.2xlarge\",\n",
    "    framework_version=\"1.11.0\",\n",
    "    py_version=\"py38\",\n",
    "    output_path=output_path,\n",
    "    metric_definitions=metric_definitions,\n",
    "    rules=rules,\n",
    "    debugger_hook_config=hook_config,\n",
    "    env={'MMS_DEFAULT_RESPONSE_TIMEOUT': '10800'}\n",
    ")"
   ]
  },
  {
   "cell_type": "code",
   "execution_count": null,
   "id": "29bd190f-158e-40b6-a19a-ca723d1232f4",
   "metadata": {
    "tags": []
   },
   "outputs": [
    {
     "name": "stderr",
     "output_type": "stream",
     "text": [
      "INFO:sagemaker.image_uris:image_uri is not presented, retrieving image_uri based on instance_type, framework etc.\n",
      "INFO:sagemaker:Creating training-job with name: smdebugger-dementia-pytorch-cnn-2023-04-13-15-42-21-858\n"
     ]
    },
    {
     "name": "stdout",
     "output_type": "stream",
     "text": [
      "2023-04-13 15:42:22 Starting - Starting the training job...\n",
      "2023-04-13 15:43:01 Starting - Preparing the instances for trainingVanishingGradient: InProgress\n",
      "Overfit: InProgress\n",
      "Overtraining: InProgress\n",
      "PoorWeightInitialization: InProgress\n",
      "ProfilerReport: InProgress\n",
      "......\n",
      "2023-04-13 15:44:01 Downloading - Downloading input data...\n",
      "2023-04-13 15:44:28 Training - Downloading the training image...\n",
      "2023-04-13 15:45:03 Training - Training image download completed. Training in progress....\u001b[34mbash: cannot set terminal process group (-1): Inappropriate ioctl for device\u001b[0m\n",
      "\u001b[34mbash: no job control in this shell\u001b[0m\n",
      "\u001b[34m2023-04-13 11:45:26,728 sagemaker-training-toolkit INFO     Imported framework sagemaker_pytorch_container.training\u001b[0m\n",
      "\u001b[34m2023-04-13 11:45:26,730 sagemaker-training-toolkit INFO     No GPUs detected (normal if no gpus installed)\u001b[0m\n",
      "\u001b[34m2023-04-13 11:45:26,732 sagemaker-training-toolkit INFO     No Neurons detected (normal if no neurons installed)\u001b[0m\n",
      "\u001b[34m2023-04-13 11:45:26,742 sagemaker_pytorch_container.training INFO     Block until all host DNS lookups succeed.\u001b[0m\n",
      "\u001b[34m2023-04-13 11:45:26,744 sagemaker_pytorch_container.training INFO     Invoking user training script.\u001b[0m\n",
      "\u001b[34m2023-04-13 11:45:26,960 sagemaker-training-toolkit INFO     No GPUs detected (normal if no gpus installed)\u001b[0m\n",
      "\u001b[34m2023-04-13 11:45:26,963 sagemaker-training-toolkit INFO     No Neurons detected (normal if no neurons installed)\u001b[0m\n",
      "\u001b[34m2023-04-13 11:45:26,976 sagemaker-training-toolkit INFO     No GPUs detected (normal if no gpus installed)\u001b[0m\n",
      "\u001b[34m2023-04-13 11:45:26,978 sagemaker-training-toolkit INFO     No Neurons detected (normal if no neurons installed)\u001b[0m\n",
      "\u001b[34m2023-04-13 11:45:26,992 sagemaker-training-toolkit INFO     No GPUs detected (normal if no gpus installed)\u001b[0m\n",
      "\u001b[34m2023-04-13 11:45:26,994 sagemaker-training-toolkit INFO     No Neurons detected (normal if no neurons installed)\u001b[0m\n",
      "\u001b[34m2023-04-13 11:45:27,005 sagemaker-training-toolkit INFO     Invoking user script\u001b[0m\n",
      "\u001b[34mTraining Env:\u001b[0m\n",
      "\u001b[34m{\n",
      "    \"additional_framework_parameters\": {},\n",
      "    \"channel_input_dirs\": {\n",
      "        \"test\": \"/opt/ml/input/data/test\",\n",
      "        \"train\": \"/opt/ml/input/data/train\",\n",
      "        \"valid\": \"/opt/ml/input/data/valid\"\n",
      "    },\n",
      "    \"current_host\": \"algo-1\",\n",
      "    \"current_instance_group\": \"homogeneousCluster\",\n",
      "    \"current_instance_group_hosts\": [\n",
      "        \"algo-2\",\n",
      "        \"algo-1\"\n",
      "    ],\n",
      "    \"current_instance_type\": \"ml.m5.2xlarge\",\n",
      "    \"distribution_hosts\": [],\n",
      "    \"distribution_instance_groups\": [],\n",
      "    \"framework_module\": \"sagemaker_pytorch_container.training:main\",\n",
      "    \"hosts\": [\n",
      "        \"algo-1\",\n",
      "        \"algo-2\"\n",
      "    ],\n",
      "    \"hyperparameters\": {\n",
      "        \"batch-size\": 120,\n",
      "        \"epochs\": \"100\",\n",
      "        \"lr\": \"0.0011\"\n",
      "    },\n",
      "    \"input_config_dir\": \"/opt/ml/input/config\",\n",
      "    \"input_data_config\": {\n",
      "        \"test\": {\n",
      "            \"TrainingInputMode\": \"File\",\n",
      "            \"S3DistributionType\": \"FullyReplicated\",\n",
      "            \"RecordWrapperType\": \"None\"\n",
      "        },\n",
      "        \"train\": {\n",
      "            \"TrainingInputMode\": \"File\",\n",
      "            \"S3DistributionType\": \"FullyReplicated\",\n",
      "            \"RecordWrapperType\": \"None\"\n",
      "        },\n",
      "        \"valid\": {\n",
      "            \"TrainingInputMode\": \"File\",\n",
      "            \"S3DistributionType\": \"FullyReplicated\",\n",
      "            \"RecordWrapperType\": \"None\"\n",
      "        }\n",
      "    },\n",
      "    \"input_dir\": \"/opt/ml/input\",\n",
      "    \"instance_groups\": [\n",
      "        \"homogeneousCluster\"\n",
      "    ],\n",
      "    \"instance_groups_dict\": {\n",
      "        \"homogeneousCluster\": {\n",
      "            \"instance_group_name\": \"homogeneousCluster\",\n",
      "            \"instance_type\": \"ml.m5.2xlarge\",\n",
      "            \"hosts\": [\n",
      "                \"algo-2\",\n",
      "                \"algo-1\"\n",
      "            ]\n",
      "        }\n",
      "    },\n",
      "    \"is_hetero\": false,\n",
      "    \"is_master\": true,\n",
      "    \"is_modelparallel_enabled\": null,\n",
      "    \"is_smddpmprun_installed\": false,\n",
      "    \"job_name\": \"smdebugger-dementia-pytorch-cnn-2023-04-13-15-42-21-858\",\n",
      "    \"log_level\": 20,\n",
      "    \"master_hostname\": \"algo-1\",\n",
      "    \"model_dir\": \"/opt/ml/model\",\n",
      "    \"module_dir\": \"s3://capstone-us-data1/smdebugger-dementia-pytorch-cnn-2023-04-13-15-42-21-858/source/sourcedir.tar.gz\",\n",
      "    \"module_name\": \"train_model\",\n",
      "    \"network_interface_name\": \"eth0\",\n",
      "    \"num_cpus\": 8,\n",
      "    \"num_gpus\": 0,\n",
      "    \"num_neurons\": 0,\n",
      "    \"output_data_dir\": \"/opt/ml/output/data\",\n",
      "    \"output_dir\": \"/opt/ml/output\",\n",
      "    \"output_intermediate_dir\": \"/opt/ml/output/intermediate\",\n",
      "    \"resource_config\": {\n",
      "        \"current_host\": \"algo-1\",\n",
      "        \"current_instance_type\": \"ml.m5.2xlarge\",\n",
      "        \"current_group_name\": \"homogeneousCluster\",\n",
      "        \"hosts\": [\n",
      "            \"algo-1\",\n",
      "            \"algo-2\"\n",
      "        ],\n",
      "        \"instance_groups\": [\n",
      "            {\n",
      "                \"instance_group_name\": \"homogeneousCluster\",\n",
      "                \"instance_type\": \"ml.m5.2xlarge\",\n",
      "                \"hosts\": [\n",
      "                    \"algo-2\",\n",
      "                    \"algo-1\"\n",
      "                ]\n",
      "            }\n",
      "        ],\n",
      "        \"network_interface_name\": \"eth0\"\n",
      "    },\n",
      "    \"user_entry_point\": \"train_model.py\"\u001b[0m\n",
      "\u001b[34m}\u001b[0m\n",
      "\u001b[34mEnvironment variables:\u001b[0m\n",
      "\u001b[34mSM_HOSTS=[\"algo-1\",\"algo-2\"]\u001b[0m\n",
      "\u001b[34mSM_NETWORK_INTERFACE_NAME=eth0\u001b[0m\n",
      "\u001b[34mSM_HPS={\"batch-size\":120,\"epochs\":\"100\",\"lr\":\"0.0011\"}\u001b[0m\n",
      "\u001b[34mSM_USER_ENTRY_POINT=train_model.py\u001b[0m\n",
      "\u001b[34mSM_FRAMEWORK_PARAMS={}\u001b[0m\n",
      "\u001b[34mSM_RESOURCE_CONFIG={\"current_group_name\":\"homogeneousCluster\",\"current_host\":\"algo-1\",\"current_instance_type\":\"ml.m5.2xlarge\",\"hosts\":[\"algo-1\",\"algo-2\"],\"instance_groups\":[{\"hosts\":[\"algo-2\",\"algo-1\"],\"instance_group_name\":\"homogeneousCluster\",\"instance_type\":\"ml.m5.2xlarge\"}],\"network_interface_name\":\"eth0\"}\u001b[0m\n",
      "\u001b[34mSM_INPUT_DATA_CONFIG={\"test\":{\"RecordWrapperType\":\"None\",\"S3DistributionType\":\"FullyReplicated\",\"TrainingInputMode\":\"File\"},\"train\":{\"RecordWrapperType\":\"None\",\"S3DistributionType\":\"FullyReplicated\",\"TrainingInputMode\":\"File\"},\"valid\":{\"RecordWrapperType\":\"None\",\"S3DistributionType\":\"FullyReplicated\",\"TrainingInputMode\":\"File\"}}\u001b[0m\n",
      "\u001b[34mSM_OUTPUT_DATA_DIR=/opt/ml/output/data\u001b[0m\n",
      "\u001b[34mSM_CHANNELS=[\"test\",\"train\",\"valid\"]\u001b[0m\n",
      "\u001b[34mSM_CURRENT_HOST=algo-1\u001b[0m\n",
      "\u001b[34mSM_CURRENT_INSTANCE_TYPE=ml.m5.2xlarge\u001b[0m\n",
      "\u001b[34mSM_CURRENT_INSTANCE_GROUP=homogeneousCluster\u001b[0m\n",
      "\u001b[34mSM_CURRENT_INSTANCE_GROUP_HOSTS=[\"algo-2\",\"algo-1\"]\u001b[0m\n",
      "\u001b[34mSM_INSTANCE_GROUPS=[\"homogeneousCluster\"]\u001b[0m\n",
      "\u001b[34mSM_INSTANCE_GROUPS_DICT={\"homogeneousCluster\":{\"hosts\":[\"algo-2\",\"algo-1\"],\"instance_group_name\":\"homogeneousCluster\",\"instance_type\":\"ml.m5.2xlarge\"}}\u001b[0m\n",
      "\u001b[34mSM_DISTRIBUTION_INSTANCE_GROUPS=[]\u001b[0m\n",
      "\u001b[34mSM_IS_HETERO=false\u001b[0m\n",
      "\u001b[34mSM_MODULE_NAME=train_model\u001b[0m\n",
      "\u001b[34mSM_LOG_LEVEL=20\u001b[0m\n",
      "\u001b[34mSM_FRAMEWORK_MODULE=sagemaker_pytorch_container.training:main\u001b[0m\n",
      "\u001b[34mSM_INPUT_DIR=/opt/ml/input\u001b[0m\n",
      "\u001b[34mSM_INPUT_CONFIG_DIR=/opt/ml/input/config\u001b[0m\n",
      "\u001b[34mSM_OUTPUT_DIR=/opt/ml/output\u001b[0m\n",
      "\u001b[34mSM_NUM_CPUS=8\u001b[0m\n",
      "\u001b[34mSM_NUM_GPUS=0\u001b[0m\n",
      "\u001b[34mSM_NUM_NEURONS=0\u001b[0m\n",
      "\u001b[34mSM_MODEL_DIR=/opt/ml/model\u001b[0m\n",
      "\u001b[34mSM_MODULE_DIR=s3://capstone-us-data1/smdebugger-dementia-pytorch-cnn-2023-04-13-15-42-21-858/source/sourcedir.tar.gz\u001b[0m\n",
      "\u001b[34mSM_TRAINING_ENV={\"additional_framework_parameters\":{},\"channel_input_dirs\":{\"test\":\"/opt/ml/input/data/test\",\"train\":\"/opt/ml/input/data/train\",\"valid\":\"/opt/ml/input/data/valid\"},\"current_host\":\"algo-1\",\"current_instance_group\":\"homogeneousCluster\",\"current_instance_group_hosts\":[\"algo-2\",\"algo-1\"],\"current_instance_type\":\"ml.m5.2xlarge\",\"distribution_hosts\":[],\"distribution_instance_groups\":[],\"framework_module\":\"sagemaker_pytorch_container.training:main\",\"hosts\":[\"algo-1\",\"algo-2\"],\"hyperparameters\":{\"batch-size\":120,\"epochs\":\"100\",\"lr\":\"0.0011\"},\"input_config_dir\":\"/opt/ml/input/config\",\"input_data_config\":{\"test\":{\"RecordWrapperType\":\"None\",\"S3DistributionType\":\"FullyReplicated\",\"TrainingInputMode\":\"File\"},\"train\":{\"RecordWrapperType\":\"None\",\"S3DistributionType\":\"FullyReplicated\",\"TrainingInputMode\":\"File\"},\"valid\":{\"RecordWrapperType\":\"None\",\"S3DistributionType\":\"FullyReplicated\",\"TrainingInputMode\":\"File\"}},\"input_dir\":\"/opt/ml/input\",\"instance_groups\":[\"homogeneousCluster\"],\"instance_groups_dict\":{\"homogeneousCluster\":{\"hosts\":[\"algo-2\",\"algo-1\"],\"instance_group_name\":\"homogeneousCluster\",\"instance_type\":\"ml.m5.2xlarge\"}},\"is_hetero\":false,\"is_master\":true,\"is_modelparallel_enabled\":null,\"is_smddpmprun_installed\":false,\"job_name\":\"smdebugger-dementia-pytorch-cnn-2023-04-13-15-42-21-858\",\"log_level\":20,\"master_hostname\":\"algo-1\",\"model_dir\":\"/opt/ml/model\",\"module_dir\":\"s3://capstone-us-data1/smdebugger-dementia-pytorch-cnn-2023-04-13-15-42-21-858/source/sourcedir.tar.gz\",\"module_name\":\"train_model\",\"network_interface_name\":\"eth0\",\"num_cpus\":8,\"num_gpus\":0,\"num_neurons\":0,\"output_data_dir\":\"/opt/ml/output/data\",\"output_dir\":\"/opt/ml/output\",\"output_intermediate_dir\":\"/opt/ml/output/intermediate\",\"resource_config\":{\"current_group_name\":\"homogeneousCluster\",\"current_host\":\"algo-1\",\"current_instance_type\":\"ml.m5.2xlarge\",\"hosts\":[\"algo-1\",\"algo-2\"],\"instance_groups\":[{\"hosts\":[\"algo-2\",\"algo-1\"],\"instance_group_name\":\"homogeneousCluster\",\"instance_type\":\"ml.m5.2xlarge\"}],\"network_interface_name\":\"eth0\"},\"user_entry_point\":\"train_model.py\"}\u001b[0m\n",
      "\u001b[34mSM_USER_ARGS=[\"--batch-size\",\"120\",\"--epochs\",\"100\",\"--lr\",\"0.0011\"]\u001b[0m\n",
      "\u001b[34mSM_OUTPUT_INTERMEDIATE_DIR=/opt/ml/output/intermediate\u001b[0m\n",
      "\u001b[34mSM_CHANNEL_TEST=/opt/ml/input/data/test\u001b[0m\n",
      "\u001b[34mSM_CHANNEL_TRAIN=/opt/ml/input/data/train\u001b[0m\n",
      "\u001b[34mSM_CHANNEL_VALID=/opt/ml/input/data/valid\u001b[0m\n",
      "\u001b[34mSM_HP_BATCH-SIZE=120\u001b[0m\n",
      "\u001b[34mSM_HP_EPOCHS=100\u001b[0m\n",
      "\u001b[34mSM_HP_LR=0.0011\u001b[0m\n",
      "\u001b[34mPYTHONPATH=/opt/ml/code:/opt/conda/bin:/opt/conda/lib/python38.zip:/opt/conda/lib/python3.8:/opt/conda/lib/python3.8/lib-dynload:/opt/conda/lib/python3.8/site-packages:/opt/conda/lib/python3.8/site-packages/smdebug-1.0.26b20230214-py3.8.egg:/opt/conda/lib/python3.8/site-packages/pyinstrument-3.4.2-py3.8.egg:/opt/conda/lib/python3.8/site-packages/pyinstrument_cext-0.2.4-py3.8-linux-x86_64.egg\u001b[0m\n",
      "\u001b[34mInvoking script with the following command:\u001b[0m\n",
      "\u001b[34m/opt/conda/bin/python3.8 train_model.py --batch-size 120 --epochs 100 --lr 0.0011\u001b[0m\n",
      "\u001b[34m2023-04-13 11:45:27,496 sagemaker-training-toolkit INFO     Exceptions not imported for SageMaker TF as Tensorflow is not installed.\u001b[0m\n",
      "\u001b[35mbash: cannot set terminal process group (-1): Inappropriate ioctl for device\u001b[0m\n",
      "\u001b[35mbash: no job control in this shell\u001b[0m\n",
      "\u001b[35m2023-04-13 11:45:24,105 sagemaker-training-toolkit INFO     Imported framework sagemaker_pytorch_container.training\u001b[0m\n",
      "\u001b[35m2023-04-13 11:45:24,107 sagemaker-training-toolkit INFO     No GPUs detected (normal if no gpus installed)\u001b[0m\n",
      "\u001b[35m2023-04-13 11:45:24,109 sagemaker-training-toolkit INFO     No Neurons detected (normal if no neurons installed)\u001b[0m\n",
      "\u001b[35m2023-04-13 11:45:24,120 sagemaker_pytorch_container.training INFO     Block until all host DNS lookups succeed.\u001b[0m\n",
      "\u001b[35m2023-04-13 11:45:24,122 sagemaker_pytorch_container.training INFO     Invoking user training script.\u001b[0m\n",
      "\u001b[35m2023-04-13 11:45:24,346 sagemaker-training-toolkit INFO     No GPUs detected (normal if no gpus installed)\u001b[0m\n",
      "\u001b[35m2023-04-13 11:45:24,349 sagemaker-training-toolkit INFO     No Neurons detected (normal if no neurons installed)\u001b[0m\n",
      "\u001b[35m2023-04-13 11:45:24,363 sagemaker-training-toolkit INFO     No GPUs detected (normal if no gpus installed)\u001b[0m\n",
      "\u001b[35m2023-04-13 11:45:24,365 sagemaker-training-toolkit INFO     No Neurons detected (normal if no neurons installed)\u001b[0m\n",
      "\u001b[35m2023-04-13 11:45:24,380 sagemaker-training-toolkit INFO     No GPUs detected (normal if no gpus installed)\u001b[0m\n",
      "\u001b[35m2023-04-13 11:45:24,382 sagemaker-training-toolkit INFO     No Neurons detected (normal if no neurons installed)\u001b[0m\n",
      "\u001b[35m2023-04-13 11:45:24,394 sagemaker-training-toolkit INFO     Invoking user script\u001b[0m\n",
      "\u001b[35mTraining Env:\u001b[0m\n",
      "\u001b[35m{\n",
      "    \"additional_framework_parameters\": {},\n",
      "    \"channel_input_dirs\": {\n",
      "        \"test\": \"/opt/ml/input/data/test\",\n",
      "        \"train\": \"/opt/ml/input/data/train\",\n",
      "        \"valid\": \"/opt/ml/input/data/valid\"\n",
      "    },\n",
      "    \"current_host\": \"algo-2\",\n",
      "    \"current_instance_group\": \"homogeneousCluster\",\n",
      "    \"current_instance_group_hosts\": [\n",
      "        \"algo-2\",\n",
      "        \"algo-1\"\n",
      "    ],\n",
      "    \"current_instance_type\": \"ml.m5.2xlarge\",\n",
      "    \"distribution_hosts\": [],\n",
      "    \"distribution_instance_groups\": [],\n",
      "    \"framework_module\": \"sagemaker_pytorch_container.training:main\",\n",
      "    \"hosts\": [\n",
      "        \"algo-1\",\n",
      "        \"algo-2\"\n",
      "    ],\n",
      "    \"hyperparameters\": {\n",
      "        \"batch-size\": 120,\n",
      "        \"epochs\": \"100\",\n",
      "        \"lr\": \"0.0011\"\n",
      "    },\n",
      "    \"input_config_dir\": \"/opt/ml/input/config\",\n",
      "    \"input_data_config\": {\n",
      "        \"test\": {\n",
      "            \"TrainingInputMode\": \"File\",\n",
      "            \"S3DistributionType\": \"FullyReplicated\",\n",
      "            \"RecordWrapperType\": \"None\"\n",
      "        },\n",
      "        \"train\": {\n",
      "            \"TrainingInputMode\": \"File\",\n",
      "            \"S3DistributionType\": \"FullyReplicated\",\n",
      "            \"RecordWrapperType\": \"None\"\n",
      "        },\n",
      "        \"valid\": {\n",
      "            \"TrainingInputMode\": \"File\",\n",
      "            \"S3DistributionType\": \"FullyReplicated\",\n",
      "            \"RecordWrapperType\": \"None\"\n",
      "        }\n",
      "    },\n",
      "    \"input_dir\": \"/opt/ml/input\",\n",
      "    \"instance_groups\": [\n",
      "        \"homogeneousCluster\"\n",
      "    ],\n",
      "    \"instance_groups_dict\": {\n",
      "        \"homogeneousCluster\": {\n",
      "            \"instance_group_name\": \"homogeneousCluster\",\n",
      "            \"instance_type\": \"ml.m5.2xlarge\",\n",
      "            \"hosts\": [\n",
      "                \"algo-2\",\n",
      "                \"algo-1\"\n",
      "            ]\n",
      "        }\n",
      "    },\n",
      "    \"is_hetero\": false,\n",
      "    \"is_master\": false,\n",
      "    \"is_modelparallel_enabled\": null,\n",
      "    \"is_smddpmprun_installed\": false,\n",
      "    \"job_name\": \"smdebugger-dementia-pytorch-cnn-2023-04-13-15-42-21-858\",\n",
      "    \"log_level\": 20,\n",
      "    \"master_hostname\": \"algo-1\",\n",
      "    \"model_dir\": \"/opt/ml/model\",\n",
      "    \"module_dir\": \"s3://capstone-us-data1/smdebugger-dementia-pytorch-cnn-2023-04-13-15-42-21-858/source/sourcedir.tar.gz\",\n",
      "    \"module_name\": \"train_model\",\n",
      "    \"network_interface_name\": \"eth0\",\n",
      "    \"num_cpus\": 8,\n",
      "    \"num_gpus\": 0,\n",
      "    \"num_neurons\": 0,\n",
      "    \"output_data_dir\": \"/opt/ml/output/data\",\n",
      "    \"output_dir\": \"/opt/ml/output\",\n",
      "    \"output_intermediate_dir\": \"/opt/ml/output/intermediate\",\n",
      "    \"resource_config\": {\n",
      "        \"current_host\": \"algo-2\",\n",
      "        \"current_instance_type\": \"ml.m5.2xlarge\",\n",
      "        \"current_group_name\": \"homogeneousCluster\",\n",
      "        \"hosts\": [\n",
      "            \"algo-1\",\n",
      "            \"algo-2\"\n",
      "        ],\n",
      "        \"instance_groups\": [\n",
      "            {\n",
      "                \"instance_group_name\": \"homogeneousCluster\",\n",
      "                \"instance_type\": \"ml.m5.2xlarge\",\n",
      "                \"hosts\": [\n",
      "                    \"algo-2\",\n",
      "                    \"algo-1\"\n",
      "                ]\n",
      "            }\n",
      "        ],\n",
      "        \"network_interface_name\": \"eth0\"\n",
      "    },\n",
      "    \"user_entry_point\": \"train_model.py\"\u001b[0m\n",
      "\u001b[35m}\u001b[0m\n",
      "\u001b[35mEnvironment variables:\u001b[0m\n",
      "\u001b[35mSM_HOSTS=[\"algo-1\",\"algo-2\"]\u001b[0m\n",
      "\u001b[35mSM_NETWORK_INTERFACE_NAME=eth0\u001b[0m\n",
      "\u001b[35mSM_HPS={\"batch-size\":120,\"epochs\":\"100\",\"lr\":\"0.0011\"}\u001b[0m\n",
      "\u001b[35mSM_USER_ENTRY_POINT=train_model.py\u001b[0m\n",
      "\u001b[35mSM_FRAMEWORK_PARAMS={}\u001b[0m\n",
      "\u001b[35mSM_RESOURCE_CONFIG={\"current_group_name\":\"homogeneousCluster\",\"current_host\":\"algo-2\",\"current_instance_type\":\"ml.m5.2xlarge\",\"hosts\":[\"algo-1\",\"algo-2\"],\"instance_groups\":[{\"hosts\":[\"algo-2\",\"algo-1\"],\"instance_group_name\":\"homogeneousCluster\",\"instance_type\":\"ml.m5.2xlarge\"}],\"network_interface_name\":\"eth0\"}\u001b[0m\n",
      "\u001b[35mSM_INPUT_DATA_CONFIG={\"test\":{\"RecordWrapperType\":\"None\",\"S3DistributionType\":\"FullyReplicated\",\"TrainingInputMode\":\"File\"},\"train\":{\"RecordWrapperType\":\"None\",\"S3DistributionType\":\"FullyReplicated\",\"TrainingInputMode\":\"File\"},\"valid\":{\"RecordWrapperType\":\"None\",\"S3DistributionType\":\"FullyReplicated\",\"TrainingInputMode\":\"File\"}}\u001b[0m\n",
      "\u001b[35mSM_OUTPUT_DATA_DIR=/opt/ml/output/data\u001b[0m\n",
      "\u001b[35mSM_CHANNELS=[\"test\",\"train\",\"valid\"]\u001b[0m\n",
      "\u001b[35mSM_CURRENT_HOST=algo-2\u001b[0m\n",
      "\u001b[35mSM_CURRENT_INSTANCE_TYPE=ml.m5.2xlarge\u001b[0m\n",
      "\u001b[35mSM_CURRENT_INSTANCE_GROUP=homogeneousCluster\u001b[0m\n",
      "\u001b[35mSM_CURRENT_INSTANCE_GROUP_HOSTS=[\"algo-2\",\"algo-1\"]\u001b[0m\n",
      "\u001b[35mSM_INSTANCE_GROUPS=[\"homogeneousCluster\"]\u001b[0m\n",
      "\u001b[35mSM_INSTANCE_GROUPS_DICT={\"homogeneousCluster\":{\"hosts\":[\"algo-2\",\"algo-1\"],\"instance_group_name\":\"homogeneousCluster\",\"instance_type\":\"ml.m5.2xlarge\"}}\u001b[0m\n",
      "\u001b[35mSM_DISTRIBUTION_INSTANCE_GROUPS=[]\u001b[0m\n",
      "\u001b[35mSM_IS_HETERO=false\u001b[0m\n",
      "\u001b[35mSM_MODULE_NAME=train_model\u001b[0m\n",
      "\u001b[35mSM_LOG_LEVEL=20\u001b[0m\n",
      "\u001b[35mSM_FRAMEWORK_MODULE=sagemaker_pytorch_container.training:main\u001b[0m\n",
      "\u001b[35mSM_INPUT_DIR=/opt/ml/input\u001b[0m\n",
      "\u001b[35mSM_INPUT_CONFIG_DIR=/opt/ml/input/config\u001b[0m\n",
      "\u001b[35mSM_OUTPUT_DIR=/opt/ml/output\u001b[0m\n",
      "\u001b[35mSM_NUM_CPUS=8\u001b[0m\n",
      "\u001b[35mSM_NUM_GPUS=0\u001b[0m\n",
      "\u001b[35mSM_NUM_NEURONS=0\u001b[0m\n",
      "\u001b[35mSM_MODEL_DIR=/opt/ml/model\u001b[0m\n",
      "\u001b[35mSM_MODULE_DIR=s3://capstone-us-data1/smdebugger-dementia-pytorch-cnn-2023-04-13-15-42-21-858/source/sourcedir.tar.gz\u001b[0m\n",
      "\u001b[35mSM_TRAINING_ENV={\"additional_framework_parameters\":{},\"channel_input_dirs\":{\"test\":\"/opt/ml/input/data/test\",\"train\":\"/opt/ml/input/data/train\",\"valid\":\"/opt/ml/input/data/valid\"},\"current_host\":\"algo-2\",\"current_instance_group\":\"homogeneousCluster\",\"current_instance_group_hosts\":[\"algo-2\",\"algo-1\"],\"current_instance_type\":\"ml.m5.2xlarge\",\"distribution_hosts\":[],\"distribution_instance_groups\":[],\"framework_module\":\"sagemaker_pytorch_container.training:main\",\"hosts\":[\"algo-1\",\"algo-2\"],\"hyperparameters\":{\"batch-size\":120,\"epochs\":\"100\",\"lr\":\"0.0011\"},\"input_config_dir\":\"/opt/ml/input/config\",\"input_data_config\":{\"test\":{\"RecordWrapperType\":\"None\",\"S3DistributionType\":\"FullyReplicated\",\"TrainingInputMode\":\"File\"},\"train\":{\"RecordWrapperType\":\"None\",\"S3DistributionType\":\"FullyReplicated\",\"TrainingInputMode\":\"File\"},\"valid\":{\"RecordWrapperType\":\"None\",\"S3DistributionType\":\"FullyReplicated\",\"TrainingInputMode\":\"File\"}},\"input_dir\":\"/opt/ml/input\",\"instance_groups\":[\"homogeneousCluster\"],\"instance_groups_dict\":{\"homogeneousCluster\":{\"hosts\":[\"algo-2\",\"algo-1\"],\"instance_group_name\":\"homogeneousCluster\",\"instance_type\":\"ml.m5.2xlarge\"}},\"is_hetero\":false,\"is_master\":false,\"is_modelparallel_enabled\":null,\"is_smddpmprun_installed\":false,\"job_name\":\"smdebugger-dementia-pytorch-cnn-2023-04-13-15-42-21-858\",\"log_level\":20,\"master_hostname\":\"algo-1\",\"model_dir\":\"/opt/ml/model\",\"module_dir\":\"s3://capstone-us-data1/smdebugger-dementia-pytorch-cnn-2023-04-13-15-42-21-858/source/sourcedir.tar.gz\",\"module_name\":\"train_model\",\"network_interface_name\":\"eth0\",\"num_cpus\":8,\"num_gpus\":0,\"num_neurons\":0,\"output_data_dir\":\"/opt/ml/output/data\",\"output_dir\":\"/opt/ml/output\",\"output_intermediate_dir\":\"/opt/ml/output/intermediate\",\"resource_config\":{\"current_group_name\":\"homogeneousCluster\",\"current_host\":\"algo-2\",\"current_instance_type\":\"ml.m5.2xlarge\",\"hosts\":[\"algo-1\",\"algo-2\"],\"instance_groups\":[{\"hosts\":[\"algo-2\",\"algo-1\"],\"instance_group_name\":\"homogeneousCluster\",\"instance_type\":\"ml.m5.2xlarge\"}],\"network_interface_name\":\"eth0\"},\"user_entry_point\":\"train_model.py\"}\u001b[0m\n",
      "\u001b[35mSM_USER_ARGS=[\"--batch-size\",\"120\",\"--epochs\",\"100\",\"--lr\",\"0.0011\"]\u001b[0m\n",
      "\u001b[35mSM_OUTPUT_INTERMEDIATE_DIR=/opt/ml/output/intermediate\u001b[0m\n",
      "\u001b[35mSM_CHANNEL_TEST=/opt/ml/input/data/test\u001b[0m\n",
      "\u001b[35mSM_CHANNEL_TRAIN=/opt/ml/input/data/train\u001b[0m\n",
      "\u001b[35mSM_CHANNEL_VALID=/opt/ml/input/data/valid\u001b[0m\n",
      "\u001b[35mSM_HP_BATCH-SIZE=120\u001b[0m\n",
      "\u001b[35mSM_HP_EPOCHS=100\u001b[0m\n",
      "\u001b[35mSM_HP_LR=0.0011\u001b[0m\n",
      "\u001b[35mPYTHONPATH=/opt/ml/code:/opt/conda/bin:/opt/conda/lib/python38.zip:/opt/conda/lib/python3.8:/opt/conda/lib/python3.8/lib-dynload:/opt/conda/lib/python3.8/site-packages:/opt/conda/lib/python3.8/site-packages/smdebug-1.0.26b20230214-py3.8.egg:/opt/conda/lib/python3.8/site-packages/pyinstrument-3.4.2-py3.8.egg:/opt/conda/lib/python3.8/site-packages/pyinstrument_cext-0.2.4-py3.8-linux-x86_64.egg\u001b[0m\n",
      "\u001b[35mInvoking script with the following command:\u001b[0m\n",
      "\u001b[35m/opt/conda/bin/python3.8 train_model.py --batch-size 120 --epochs 100 --lr 0.0011\u001b[0m\n",
      "\u001b[35m2023-04-13 11:45:24,919 sagemaker-training-toolkit INFO     Exceptions not imported for SageMaker TF as Tensorflow is not installed.\u001b[0m\n",
      "\u001b[35mDevice: cpu\u001b[0m\n",
      "\u001b[35m[2023-04-13 11:45:25.821 algo-2:47 INFO utils.py:28] RULE_JOB_STOP_SIGNAL_FILENAME: None\u001b[0m\n",
      "\u001b[35m/opt/conda/lib/python3.8/site-packages/smdebug-1.0.26b20230214-py3.8.egg/smdebug/profiler/system_metrics_reader.py:78: SyntaxWarning: \"is not\" with a literal. Did you mean \"!=\"?\u001b[0m\n",
      "\u001b[35m/opt/conda/lib/python3.8/site-packages/smdebug-1.0.26b20230214-py3.8.egg/smdebug/profiler/system_metrics_reader.py:78: SyntaxWarning: \"is not\" with a literal. Did you mean \"!=\"?\u001b[0m\n",
      "\u001b[35m[2023-04-13 11:45:26.429 algo-2:47 INFO profiler_config_parser.py:111] User has disabled profiler.\u001b[0m\n",
      "\u001b[35m[2023-04-13 11:45:26.429 algo-2:47 INFO json_config.py:92] Creating hook from json_config at /opt/ml/input/config/debughookconfig.json.\u001b[0m\n",
      "\u001b[35m[2023-04-13 11:45:26.430 algo-2:47 INFO hook.py:206] tensorboard_dir has not been set for the hook. SMDebug will not be exporting tensorboard summaries.\u001b[0m\n",
      "\u001b[35m[2023-04-13 11:45:26.430 algo-2:47 INFO hook.py:259] Saving to /opt/ml/output/tensors\u001b[0m\n",
      "\u001b[35m[2023-04-13 11:45:26.430 algo-2:47 INFO state_store.py:77] The checkpoint config file /opt/ml/input/config/checkpointconfig.json does not exist.\u001b[0m\n",
      "\u001b[35m[2023-04-13 11:45:26.431 algo-2:47 INFO hook.py:561] name:0.weight count_params:3456\u001b[0m\n",
      "\u001b[35m[2023-04-13 11:45:26.431 algo-2:47 INFO hook.py:561] name:0.bias count_params:128\u001b[0m\n",
      "\u001b[35m[2023-04-13 11:45:26.431 algo-2:47 INFO hook.py:561] name:2.weight count_params:73728\u001b[0m\n",
      "\u001b[35m[2023-04-13 11:45:26.432 algo-2:47 INFO hook.py:561] name:2.bias count_params:64\u001b[0m\n",
      "\u001b[35m[2023-04-13 11:45:26.432 algo-2:47 INFO hook.py:561] name:5.0.weight count_params:92160\u001b[0m\n",
      "\u001b[35m[2023-04-13 11:45:26.432 algo-2:47 INFO hook.py:561] name:5.0.bias count_params:160\u001b[0m\n",
      "\u001b[35m[2023-04-13 11:45:26.432 algo-2:47 INFO hook.py:561] name:5.2.weight count_params:184320\u001b[0m\n",
      "\u001b[35m[2023-04-13 11:45:26.432 algo-2:47 INFO hook.py:561] name:5.2.bias count_params:128\u001b[0m\n",
      "\u001b[35m[2023-04-13 11:45:26.432 algo-2:47 INFO hook.py:561] name:5.4.weight count_params:128\u001b[0m\n",
      "\u001b[35m[2023-04-13 11:45:26.432 algo-2:47 INFO hook.py:561] name:5.4.bias count_params:128\u001b[0m\n",
      "\u001b[35m[2023-04-13 11:45:26.432 algo-2:47 INFO hook.py:561] name:6.0.weight count_params:258048\u001b[0m\n",
      "\u001b[35m[2023-04-13 11:45:26.432 algo-2:47 INFO hook.py:561] name:6.0.bias count_params:224\u001b[0m\n",
      "\u001b[35m[2023-04-13 11:45:26.432 algo-2:47 INFO hook.py:561] name:6.2.weight count_params:387072\u001b[0m\n",
      "\u001b[35m[2023-04-13 11:45:26.432 algo-2:47 INFO hook.py:561] name:6.2.bias count_params:192\u001b[0m\n",
      "\u001b[35m[2023-04-13 11:45:26.432 algo-2:47 INFO hook.py:561] name:6.4.weight count_params:192\u001b[0m\n",
      "\u001b[35m[2023-04-13 11:45:26.432 algo-2:47 INFO hook.py:561] name:6.4.bias count_params:192\u001b[0m\n",
      "\u001b[35m[2023-04-13 11:45:26.432 algo-2:47 INFO hook.py:561] name:7.0.weight count_params:497664\u001b[0m\n",
      "\u001b[35m[2023-04-13 11:45:26.432 algo-2:47 INFO hook.py:561] name:7.0.bias count_params:288\u001b[0m\n",
      "\u001b[35m[2023-04-13 11:45:26.432 algo-2:47 INFO hook.py:561] name:7.2.weight count_params:663552\u001b[0m\n",
      "\u001b[35m[2023-04-13 11:45:26.432 algo-2:47 INFO hook.py:561] name:7.2.bias count_params:256\u001b[0m\n",
      "\u001b[35m[2023-04-13 11:45:26.432 algo-2:47 INFO hook.py:561] name:7.4.weight count_params:256\u001b[0m\n",
      "\u001b[35m[2023-04-13 11:45:26.432 algo-2:47 INFO hook.py:561] name:7.4.bias count_params:256\u001b[0m\n",
      "\u001b[35m[2023-04-13 11:45:26.432 algo-2:47 INFO hook.py:561] name:9.0.weight count_params:811008\u001b[0m\n",
      "\u001b[35m[2023-04-13 11:45:26.432 algo-2:47 INFO hook.py:561] name:9.0.bias count_params:352\u001b[0m\n",
      "\u001b[35m[2023-04-13 11:45:26.432 algo-2:47 INFO hook.py:561] name:9.2.weight count_params:1013760\u001b[0m\n",
      "\u001b[35m[2023-04-13 11:45:26.432 algo-2:47 INFO hook.py:561] name:9.2.bias count_params:320\u001b[0m\n",
      "\u001b[35m[2023-04-13 11:45:26.432 algo-2:47 INFO hook.py:561] name:9.4.weight count_params:320\u001b[0m\n",
      "\u001b[35m[2023-04-13 11:45:26.432 algo-2:47 INFO hook.py:561] name:9.4.bias count_params:320\u001b[0m\n",
      "\u001b[35m[2023-04-13 11:45:26.432 algo-2:47 INFO hook.py:561] name:12.0.weight count_params:4096000\u001b[0m\n",
      "\u001b[35m[2023-04-13 11:45:26.432 algo-2:47 INFO hook.py:561] name:12.0.bias count_params:512\u001b[0m\n",
      "\u001b[35m[2023-04-13 11:45:26.432 algo-2:47 INFO hook.py:561] name:12.2.weight count_params:512\u001b[0m\n",
      "\u001b[35m[2023-04-13 11:45:26.432 algo-2:47 INFO hook.py:561] name:12.2.bias count_params:512\u001b[0m\n",
      "\u001b[35m[2023-04-13 11:45:26.432 algo-2:47 INFO hook.py:561] name:13.0.weight count_params:65536\u001b[0m\n",
      "\u001b[35m[2023-04-13 11:45:26.432 algo-2:47 INFO hook.py:561] name:13.0.bias count_params:128\u001b[0m\n",
      "\u001b[35m[2023-04-13 11:45:26.432 algo-2:47 INFO hook.py:561] name:13.2.weight count_params:128\u001b[0m\n",
      "\u001b[35m[2023-04-13 11:45:26.432 algo-2:47 INFO hook.py:561] name:13.2.bias count_params:128\u001b[0m\n",
      "\u001b[35m[2023-04-13 11:45:26.432 algo-2:47 INFO hook.py:561] name:14.0.weight count_params:8192\u001b[0m\n",
      "\u001b[35m[2023-04-13 11:45:26.433 algo-2:47 INFO hook.py:561] name:14.0.bias count_params:64\u001b[0m\n",
      "\u001b[35m[2023-04-13 11:45:26.433 algo-2:47 INFO hook.py:561] name:14.2.weight count_params:64\u001b[0m\n",
      "\u001b[35m[2023-04-13 11:45:26.433 algo-2:47 INFO hook.py:561] name:14.2.bias count_params:64\u001b[0m\n",
      "\u001b[35m[2023-04-13 11:45:26.433 algo-2:47 INFO hook.py:561] name:15.weight count_params:256\u001b[0m\n",
      "\u001b[35m[2023-04-13 11:45:26.433 algo-2:47 INFO hook.py:561] name:15.bias count_params:4\u001b[0m\n",
      "\u001b[35m[2023-04-13 11:45:26.433 algo-2:47 INFO hook.py:563] Total Trainable Params: 8160772\u001b[0m\n",
      "\u001b[35m[2023-04-13 11:45:26.433 algo-2:47 INFO hook.py:563] Total Trainable Params: 0\u001b[0m\n",
      "\u001b[35m[2023-04-13 11:45:26.867 algo-2:47 INFO hook.py:427] Monitoring the collections: gradients, losses, relu_input, CrossEntropyLoss_output\u001b[0m\n",
      "\u001b[35m[2023-04-13 11:45:26.872 algo-2:47 INFO hook.py:491] Hook is writing from the hook with pid: 47\u001b[0m\n",
      "\u001b[34mDevice: cpu\u001b[0m\n",
      "\u001b[34m[2023-04-13 11:45:28.358 algo-1:47 INFO utils.py:28] RULE_JOB_STOP_SIGNAL_FILENAME: None\u001b[0m\n",
      "\u001b[34m/opt/conda/lib/python3.8/site-packages/smdebug-1.0.26b20230214-py3.8.egg/smdebug/profiler/system_metrics_reader.py:78: SyntaxWarning: \"is not\" with a literal. Did you mean \"!=\"?\u001b[0m\n",
      "\u001b[34m/opt/conda/lib/python3.8/site-packages/smdebug-1.0.26b20230214-py3.8.egg/smdebug/profiler/system_metrics_reader.py:78: SyntaxWarning: \"is not\" with a literal. Did you mean \"!=\"?\u001b[0m\n",
      "\u001b[34m[2023-04-13 11:45:28.938 algo-1:47 INFO profiler_config_parser.py:111] User has disabled profiler.\u001b[0m\n",
      "\u001b[34m[2023-04-13 11:45:28.938 algo-1:47 INFO json_config.py:92] Creating hook from json_config at /opt/ml/input/config/debughookconfig.json.\u001b[0m\n",
      "\u001b[34m[2023-04-13 11:45:28.938 algo-1:47 INFO hook.py:206] tensorboard_dir has not been set for the hook. SMDebug will not be exporting tensorboard summaries.\u001b[0m\n",
      "\u001b[34m[2023-04-13 11:45:28.939 algo-1:47 INFO hook.py:259] Saving to /opt/ml/output/tensors\u001b[0m\n",
      "\u001b[34m[2023-04-13 11:45:28.939 algo-1:47 INFO state_store.py:77] The checkpoint config file /opt/ml/input/config/checkpointconfig.json does not exist.\u001b[0m\n",
      "\u001b[34m[2023-04-13 11:45:28.940 algo-1:47 INFO hook.py:561] name:0.weight count_params:3456\u001b[0m\n",
      "\u001b[34m[2023-04-13 11:45:28.940 algo-1:47 INFO hook.py:561] name:0.bias count_params:128\u001b[0m\n",
      "\u001b[34m[2023-04-13 11:45:28.940 algo-1:47 INFO hook.py:561] name:2.weight count_params:73728\u001b[0m\n",
      "\u001b[34m[2023-04-13 11:45:28.940 algo-1:47 INFO hook.py:561] name:2.bias count_params:64\u001b[0m\n",
      "\u001b[34m[2023-04-13 11:45:28.940 algo-1:47 INFO hook.py:561] name:5.0.weight count_params:92160\u001b[0m\n",
      "\u001b[34m[2023-04-13 11:45:28.940 algo-1:47 INFO hook.py:561] name:5.0.bias count_params:160\u001b[0m\n",
      "\u001b[34m[2023-04-13 11:45:28.940 algo-1:47 INFO hook.py:561] name:5.2.weight count_params:184320\u001b[0m\n",
      "\u001b[34m[2023-04-13 11:45:28.940 algo-1:47 INFO hook.py:561] name:5.2.bias count_params:128\u001b[0m\n",
      "\u001b[34m[2023-04-13 11:45:28.940 algo-1:47 INFO hook.py:561] name:5.4.weight count_params:128\u001b[0m\n",
      "\u001b[34m[2023-04-13 11:45:28.941 algo-1:47 INFO hook.py:561] name:5.4.bias count_params:128\u001b[0m\n",
      "\u001b[34m[2023-04-13 11:45:28.941 algo-1:47 INFO hook.py:561] name:6.0.weight count_params:258048\u001b[0m\n",
      "\u001b[34m[2023-04-13 11:45:28.941 algo-1:47 INFO hook.py:561] name:6.0.bias count_params:224\u001b[0m\n",
      "\u001b[34m[2023-04-13 11:45:28.941 algo-1:47 INFO hook.py:561] name:6.2.weight count_params:387072\u001b[0m\n",
      "\u001b[34m[2023-04-13 11:45:28.941 algo-1:47 INFO hook.py:561] name:6.2.bias count_params:192\u001b[0m\n",
      "\u001b[34m[2023-04-13 11:45:28.941 algo-1:47 INFO hook.py:561] name:6.4.weight count_params:192\u001b[0m\n",
      "\u001b[34m[2023-04-13 11:45:28.941 algo-1:47 INFO hook.py:561] name:6.4.bias count_params:192\u001b[0m\n",
      "\u001b[34m[2023-04-13 11:45:28.941 algo-1:47 INFO hook.py:561] name:7.0.weight count_params:497664\u001b[0m\n",
      "\u001b[34m[2023-04-13 11:45:28.941 algo-1:47 INFO hook.py:561] name:7.0.bias count_params:288\u001b[0m\n",
      "\u001b[34m[2023-04-13 11:45:28.941 algo-1:47 INFO hook.py:561] name:7.2.weight count_params:663552\u001b[0m\n",
      "\u001b[34m[2023-04-13 11:45:28.941 algo-1:47 INFO hook.py:561] name:7.2.bias count_params:256\u001b[0m\n",
      "\u001b[34m[2023-04-13 11:45:28.941 algo-1:47 INFO hook.py:561] name:7.4.weight count_params:256\u001b[0m\n",
      "\u001b[34m[2023-04-13 11:45:28.941 algo-1:47 INFO hook.py:561] name:7.4.bias count_params:256\u001b[0m\n",
      "\u001b[34m[2023-04-13 11:45:28.941 algo-1:47 INFO hook.py:561] name:9.0.weight count_params:811008\u001b[0m\n",
      "\u001b[34m[2023-04-13 11:45:28.941 algo-1:47 INFO hook.py:561] name:9.0.bias count_params:352\u001b[0m\n",
      "\u001b[34m[2023-04-13 11:45:28.941 algo-1:47 INFO hook.py:561] name:9.2.weight count_params:1013760\u001b[0m\n",
      "\u001b[34m[2023-04-13 11:45:28.941 algo-1:47 INFO hook.py:561] name:9.2.bias count_params:320\u001b[0m\n",
      "\u001b[34m[2023-04-13 11:45:28.941 algo-1:47 INFO hook.py:561] name:9.4.weight count_params:320\u001b[0m\n",
      "\u001b[34m[2023-04-13 11:45:28.941 algo-1:47 INFO hook.py:561] name:9.4.bias count_params:320\u001b[0m\n",
      "\u001b[34m[2023-04-13 11:45:28.941 algo-1:47 INFO hook.py:561] name:12.0.weight count_params:4096000\u001b[0m\n",
      "\u001b[34m[2023-04-13 11:45:28.941 algo-1:47 INFO hook.py:561] name:12.0.bias count_params:512\u001b[0m\n",
      "\u001b[34m[2023-04-13 11:45:28.941 algo-1:47 INFO hook.py:561] name:12.2.weight count_params:512\u001b[0m\n",
      "\u001b[34m[2023-04-13 11:45:28.941 algo-1:47 INFO hook.py:561] name:12.2.bias count_params:512\u001b[0m\n",
      "\u001b[34m[2023-04-13 11:45:28.941 algo-1:47 INFO hook.py:561] name:13.0.weight count_params:65536\u001b[0m\n",
      "\u001b[34m[2023-04-13 11:45:28.941 algo-1:47 INFO hook.py:561] name:13.0.bias count_params:128\u001b[0m\n",
      "\u001b[34m[2023-04-13 11:45:28.941 algo-1:47 INFO hook.py:561] name:13.2.weight count_params:128\u001b[0m\n",
      "\u001b[34m[2023-04-13 11:45:28.941 algo-1:47 INFO hook.py:561] name:13.2.bias count_params:128\u001b[0m\n",
      "\u001b[34m[2023-04-13 11:45:28.941 algo-1:47 INFO hook.py:561] name:14.0.weight count_params:8192\u001b[0m\n",
      "\u001b[34m[2023-04-13 11:45:28.942 algo-1:47 INFO hook.py:561] name:14.0.bias count_params:64\u001b[0m\n",
      "\u001b[34m[2023-04-13 11:45:28.942 algo-1:47 INFO hook.py:561] name:14.2.weight count_params:64\u001b[0m\n",
      "\u001b[34m[2023-04-13 11:45:28.942 algo-1:47 INFO hook.py:561] name:14.2.bias count_params:64\u001b[0m\n",
      "\u001b[34m[2023-04-13 11:45:28.942 algo-1:47 INFO hook.py:561] name:15.weight count_params:256\u001b[0m\n",
      "\u001b[34m[2023-04-13 11:45:28.942 algo-1:47 INFO hook.py:561] name:15.bias count_params:4\u001b[0m\n",
      "\u001b[34m[2023-04-13 11:45:28.942 algo-1:47 INFO hook.py:563] Total Trainable Params: 8160772\u001b[0m\n",
      "\u001b[34m[2023-04-13 11:45:28.942 algo-1:47 INFO hook.py:563] Total Trainable Params: 0\u001b[0m\n",
      "\u001b[34m[2023-04-13 11:45:29.361 algo-1:47 INFO hook.py:427] Monitoring the collections: gradients, relu_input, losses, CrossEntropyLoss_output\u001b[0m\n",
      "\u001b[34m[2023-04-13 11:45:29.367 algo-1:47 INFO hook.py:491] Hook is writing from the hook with pid: 47\u001b[0m\n",
      "VanishingGradient: InProgress\n",
      "Overfit: InProgress\n",
      "Overtraining: IssuesFound\n",
      "PoorWeightInitialization: InProgress\n",
      "\u001b[34mEpoch 5/101 . . . \u001b[0m\n",
      "\u001b[34mTrain loss: 1.127, acc: 46.376%\u001b[0m\n",
      "\u001b[34mValid loss: 5.409, acc: 49.946%\u001b[0m\n",
      "\u001b[35mEpoch 5/101 . . . \u001b[0m\n",
      "\u001b[35mTrain loss: 1.160, acc: 45.970%\u001b[0m\n",
      "\u001b[35mValid loss: 1.127, acc: 51.996%\u001b[0m\n",
      "VanishingGradient: InProgress\n",
      "Overfit: IssuesFound\n",
      "Overtraining: IssuesFound\n",
      "PoorWeightInitialization: InProgress\n",
      "\u001b[34mEpoch 10/101 . . . \u001b[0m\n",
      "\u001b[34mTrain loss: 1.039, acc: 49.857%\u001b[0m\n",
      "\u001b[34mValid loss: 0.953, acc: 50.270%\u001b[0m\n",
      "\u001b[35mEpoch 10/101 . . . \u001b[0m\n",
      "\u001b[35mTrain loss: 1.014, acc: 50.787%\u001b[0m\n",
      "\u001b[35mValid loss: 0.998, acc: 55.771%\u001b[0m\n",
      "\u001b[34mEpoch 15/101 . . . \u001b[0m\n",
      "\u001b[34mTrain loss: 0.963, acc: 52.599%\u001b[0m\n",
      "\u001b[34mValid loss: 0.916, acc: 56.634%\u001b[0m\n",
      "\u001b[35mEpoch 15/101 . . . \u001b[0m\n",
      "\u001b[35mTrain loss: 0.979, acc: 53.314%\u001b[0m\n",
      "\u001b[35mValid loss: 0.947, acc: 53.722%\u001b[0m\n",
      "\u001b[34mEpoch 20/101 . . . \u001b[0m\n",
      "\u001b[34mTrain loss: 0.939, acc: 53.648%\u001b[0m\n",
      "\u001b[34mValid loss: 0.885, acc: 56.634%\u001b[0m\n",
      "\u001b[35mEpoch 20/101 . . . \u001b[0m\n",
      "\u001b[35mTrain loss: 0.956, acc: 54.483%\u001b[0m\n",
      "\u001b[35mValid loss: 0.912, acc: 55.987%\u001b[0m\n",
      "\u001b[34mEpoch 25/101 . . . \u001b[0m\n",
      "\u001b[34mTrain loss: 0.928, acc: 54.435%\u001b[0m\n",
      "\u001b[34mValid loss: 0.934, acc: 56.311%\u001b[0m\n",
      "\u001b[35mEpoch 25/101 . . . \u001b[0m\n",
      "\u001b[35mTrain loss: 0.950, acc: 54.506%\u001b[0m\n",
      "\u001b[35mValid loss: 0.918, acc: 55.124%\u001b[0m\n",
      "\u001b[34mEpoch 30/101 . . . \u001b[0m\n",
      "\u001b[34mTrain loss: 0.915, acc: 56.676%\u001b[0m\n",
      "\u001b[34mValid loss: 0.838, acc: 58.792%\u001b[0m\n",
      "\u001b[35mEpoch 30/101 . . . \u001b[0m\n",
      "\u001b[35mTrain loss: 0.911, acc: 56.390%\u001b[0m\n",
      "\u001b[35mValid loss: 0.985, acc: 54.369%\u001b[0m\n",
      "\u001b[34mEpoch 35/101 . . . \u001b[0m\n",
      "\u001b[34mTrain loss: 0.894, acc: 56.819%\u001b[0m\n",
      "\u001b[34mValid loss: 0.846, acc: 59.547%\u001b[0m\n",
      "\u001b[35mEpoch 35/101 . . . \u001b[0m\n",
      "\u001b[35mTrain loss: 0.881, acc: 58.035%\u001b[0m\n",
      "\u001b[35mValid loss: 0.957, acc: 48.004%\u001b[0m\n",
      "\u001b[34mEpoch 40/101 . . . \u001b[0m\n",
      "\u001b[34mTrain loss: 0.871, acc: 58.059%\u001b[0m\n",
      "\u001b[34mValid loss: 0.884, acc: 59.871%\u001b[0m\n",
      "\u001b[35mEpoch 40/101 . . . \u001b[0m\n",
      "\u001b[35mTrain loss: 0.839, acc: 59.442%\u001b[0m\n",
      "\u001b[35mValid loss: 0.895, acc: 54.477%\u001b[0m\n",
      "\u001b[34mEpoch 45/101 . . . \u001b[0m\n",
      "\u001b[34mTrain loss: 0.795, acc: 61.755%\u001b[0m\n",
      "\u001b[34mValid loss: 0.852, acc: 59.763%\u001b[0m\n",
      "\u001b[35mEpoch 45/101 . . . \u001b[0m\n",
      "\u001b[35mTrain loss: 0.733, acc: 66.619%\u001b[0m\n",
      "\u001b[35mValid loss: 0.789, acc: 65.696%\u001b[0m\n",
      "\u001b[34mEpoch 50/101 . . . \u001b[0m\n",
      "\u001b[34mTrain loss: 0.715, acc: 67.358%\u001b[0m\n",
      "\u001b[34mValid loss: 0.657, acc: 70.874%\u001b[0m\n",
      "\u001b[35mEpoch 50/101 . . . \u001b[0m\n",
      "\u001b[35mTrain loss: 0.547, acc: 76.657%\u001b[0m\n",
      "\u001b[35mValid loss: 0.729, acc: 66.343%\u001b[0m\n",
      "\u001b[34mEpoch 55/101 . . . \u001b[0m\n",
      "\u001b[34mTrain loss: 0.621, acc: 72.508%\u001b[0m\n",
      "\u001b[34mValid loss: 0.660, acc: 71.737%\u001b[0m\n"
     ]
    }
   ],
   "source": [
    "estimator.fit(data_channels, wait=True)"
   ]
  },
  {
   "cell_type": "markdown",
   "id": "aef8c1cb-fa9a-4e5a-b54a-db33deeb35dc",
   "metadata": {},
   "source": [
    "### 3.2. Model deployment and testing"
   ]
  },
  {
   "cell_type": "code",
   "execution_count": 52,
   "id": "ff001f3c-3005-4779-872c-a9bc26c57ba0",
   "metadata": {
    "tags": []
   },
   "outputs": [],
   "source": [
    "pytorch_model = PyTorchModel(model_data=f\"s3://capstone-us-data1/outputs/smdebugger-dementia-pytorch-cnn-2023-04-13-15-42-21-858/output/model.tar.gz\", \n",
    "                             role=role,\n",
    "                             framework_version=\"1.11.0\",\n",
    "                             py_version=\"py38\",\n",
    "                             entry_point='train_model.py')"
   ]
  },
  {
   "cell_type": "code",
   "execution_count": null,
   "id": "5f929dab-6a18-4efe-9f5c-51ccf5c00cbd",
   "metadata": {
    "tags": []
   },
   "outputs": [
    {
     "name": "stderr",
     "output_type": "stream",
     "text": [
      "INFO:sagemaker:Creating model with name: pytorch-inference-2023-04-14-13-53-24-079\n",
      "INFO:sagemaker:Creating endpoint-config with name pytorch-inference-2023-04-14-13-53-24-952\n",
      "INFO:sagemaker:Creating endpoint with name pytorch-inference-2023-04-14-13-53-24-952\n"
     ]
    },
    {
     "name": "stdout",
     "output_type": "stream",
     "text": [
      "------!"
     ]
    }
   ],
   "source": [
    "predictor=pytorch_model.deploy(initial_instance_count=1,\n",
    "                           instance_type=\"ml.m5.2xlarge\")"
   ]
  },
  {
   "cell_type": "code",
   "execution_count": 56,
   "id": "e1507d47-f2bc-4baf-b005-dcdb7e47fd08",
   "metadata": {
    "tags": []
   },
   "outputs": [],
   "source": [
    "ROOT = \"/root/Alzheimer_s Dataset/test/\"\n",
    "\n",
    "transform = transforms.Compose([\n",
    "        transforms.Resize((176,176)), \n",
    "        transforms.ToTensor(),\n",
    "        transforms.Normalize((0.497,0.402,0.425), (0.308, 0.325, 0.301))\n",
    "    ])\n",
    "\n",
    "data_image = ImageFolder(root=ROOT, transform=transform)\n",
    "data_loader = torch.utils.data.DataLoader(data_image, batch_size=1, shuffle=True)"
   ]
  },
  {
   "cell_type": "code",
   "execution_count": 57,
   "id": "9950d41e-3ac3-428a-a5ed-b27fa30b5998",
   "metadata": {
    "tags": []
   },
   "outputs": [],
   "source": [
    "labels = []\n",
    "predictions = []\n",
    "for data, label in data_loader:\n",
    "    labels.append(int(label))\n",
    "    response = predictor.predict(data)\n",
    "    predictions.append(np.argmax(response[0]))"
   ]
  },
  {
   "cell_type": "code",
   "execution_count": 58,
   "id": "837fbfa5-5e9a-44b3-a1ef-0d5fc582a8e7",
   "metadata": {
    "tags": []
   },
   "outputs": [
    {
     "name": "stdout",
     "output_type": "stream",
     "text": [
      "Confusion Matrix\n",
      "          Pred_Mild  Pred_Mod  Pred_Non  Pred_VeryMild\n",
      "Mild             83         0        25             71\n",
      "Moderate          2         3         2              5\n",
      "Non              20         1       426            193\n",
      "VeryMild         29         3       101            315\n",
      "\n",
      "Test accuracy score: 64.660%\n"
     ]
    }
   ],
   "source": [
    "print(\"Confusion Matrix\")\n",
    "print(pd.DataFrame(confusion_matrix(labels, predictions), \n",
    "                   columns=['Pred_Mild', 'Pred_Mod', 'Pred_Non', 'Pred_VeryMild'], \n",
    "                   index=['Mild', 'Moderate', 'Non', 'VeryMild']))\n",
    "print(\"\")\n",
    "print(\"Test accuracy score: {:.3f}%\".format(100*accuracy_score(labels, predictions)))"
   ]
  },
  {
   "cell_type": "code",
   "execution_count": 59,
   "id": "deaf28de-1aab-4396-928e-95a615f6d341",
   "metadata": {
    "tags": []
   },
   "outputs": [
    {
     "name": "stderr",
     "output_type": "stream",
     "text": [
      "INFO:sagemaker:Deleting endpoint configuration with name: pytorch-inference-2023-04-14-13-53-24-952\n",
      "INFO:sagemaker:Deleting endpoint with name: pytorch-inference-2023-04-14-13-53-24-952\n"
     ]
    }
   ],
   "source": [
    "predictor.delete_endpoint()"
   ]
  },
  {
   "cell_type": "markdown",
   "id": "4278e234-1af1-4d7c-955b-cf4476ad4a61",
   "metadata": {},
   "source": [
    "### References"
   ]
  },
  {
   "cell_type": "markdown",
   "id": "cb7c0301-4767-48ce-8ab5-232396d39890",
   "metadata": {},
   "source": [
    "- https://pytorch.org/hub/pytorch_vision_vgg/\n",
    "- https://discuss.pytorch.org/t/vgg-object-has-no-attribute-fc/9124\n",
    "- https://docs.aws.amazon.com/sagemaker/latest/dg/training-metrics.html\n",
    "- https://www.kaggle.com/code/fazainsyahazka/1301184335-alzheimer-s-disease-classification-cnn"
   ]
  },
  {
   "cell_type": "markdown",
   "id": "80abe286-5a17-499d-a6cf-b1010a1d3a35",
   "metadata": {},
   "source": [
    "The end of the notebook"
   ]
  }
 ],
 "metadata": {
  "availableInstances": [
   {
    "_defaultOrder": 0,
    "_isFastLaunch": true,
    "category": "General purpose",
    "gpuNum": 0,
    "memoryGiB": 4,
    "name": "ml.t3.medium",
    "vcpuNum": 2
   },
   {
    "_defaultOrder": 1,
    "_isFastLaunch": false,
    "category": "General purpose",
    "gpuNum": 0,
    "memoryGiB": 8,
    "name": "ml.t3.large",
    "vcpuNum": 2
   },
   {
    "_defaultOrder": 2,
    "_isFastLaunch": false,
    "category": "General purpose",
    "gpuNum": 0,
    "memoryGiB": 16,
    "name": "ml.t3.xlarge",
    "vcpuNum": 4
   },
   {
    "_defaultOrder": 3,
    "_isFastLaunch": false,
    "category": "General purpose",
    "gpuNum": 0,
    "memoryGiB": 32,
    "name": "ml.t3.2xlarge",
    "vcpuNum": 8
   },
   {
    "_defaultOrder": 4,
    "_isFastLaunch": true,
    "category": "General purpose",
    "gpuNum": 0,
    "memoryGiB": 8,
    "name": "ml.m5.large",
    "vcpuNum": 2
   },
   {
    "_defaultOrder": 5,
    "_isFastLaunch": false,
    "category": "General purpose",
    "gpuNum": 0,
    "memoryGiB": 16,
    "name": "ml.m5.xlarge",
    "vcpuNum": 4
   },
   {
    "_defaultOrder": 6,
    "_isFastLaunch": false,
    "category": "General purpose",
    "gpuNum": 0,
    "memoryGiB": 32,
    "name": "ml.m5.2xlarge",
    "vcpuNum": 8
   },
   {
    "_defaultOrder": 7,
    "_isFastLaunch": false,
    "category": "General purpose",
    "gpuNum": 0,
    "memoryGiB": 64,
    "name": "ml.m5.4xlarge",
    "vcpuNum": 16
   },
   {
    "_defaultOrder": 8,
    "_isFastLaunch": false,
    "category": "General purpose",
    "gpuNum": 0,
    "memoryGiB": 128,
    "name": "ml.m5.8xlarge",
    "vcpuNum": 32
   },
   {
    "_defaultOrder": 9,
    "_isFastLaunch": false,
    "category": "General purpose",
    "gpuNum": 0,
    "memoryGiB": 192,
    "name": "ml.m5.12xlarge",
    "vcpuNum": 48
   },
   {
    "_defaultOrder": 10,
    "_isFastLaunch": false,
    "category": "General purpose",
    "gpuNum": 0,
    "memoryGiB": 256,
    "name": "ml.m5.16xlarge",
    "vcpuNum": 64
   },
   {
    "_defaultOrder": 11,
    "_isFastLaunch": false,
    "category": "General purpose",
    "gpuNum": 0,
    "memoryGiB": 384,
    "name": "ml.m5.24xlarge",
    "vcpuNum": 96
   },
   {
    "_defaultOrder": 12,
    "_isFastLaunch": false,
    "category": "General purpose",
    "gpuNum": 0,
    "memoryGiB": 8,
    "name": "ml.m5d.large",
    "vcpuNum": 2
   },
   {
    "_defaultOrder": 13,
    "_isFastLaunch": false,
    "category": "General purpose",
    "gpuNum": 0,
    "memoryGiB": 16,
    "name": "ml.m5d.xlarge",
    "vcpuNum": 4
   },
   {
    "_defaultOrder": 14,
    "_isFastLaunch": false,
    "category": "General purpose",
    "gpuNum": 0,
    "memoryGiB": 32,
    "name": "ml.m5d.2xlarge",
    "vcpuNum": 8
   },
   {
    "_defaultOrder": 15,
    "_isFastLaunch": false,
    "category": "General purpose",
    "gpuNum": 0,
    "memoryGiB": 64,
    "name": "ml.m5d.4xlarge",
    "vcpuNum": 16
   },
   {
    "_defaultOrder": 16,
    "_isFastLaunch": false,
    "category": "General purpose",
    "gpuNum": 0,
    "memoryGiB": 128,
    "name": "ml.m5d.8xlarge",
    "vcpuNum": 32
   },
   {
    "_defaultOrder": 17,
    "_isFastLaunch": false,
    "category": "General purpose",
    "gpuNum": 0,
    "memoryGiB": 192,
    "name": "ml.m5d.12xlarge",
    "vcpuNum": 48
   },
   {
    "_defaultOrder": 18,
    "_isFastLaunch": false,
    "category": "General purpose",
    "gpuNum": 0,
    "memoryGiB": 256,
    "name": "ml.m5d.16xlarge",
    "vcpuNum": 64
   },
   {
    "_defaultOrder": 19,
    "_isFastLaunch": false,
    "category": "General purpose",
    "gpuNum": 0,
    "memoryGiB": 384,
    "name": "ml.m5d.24xlarge",
    "vcpuNum": 96
   },
   {
    "_defaultOrder": 20,
    "_isFastLaunch": true,
    "category": "Compute optimized",
    "gpuNum": 0,
    "memoryGiB": 4,
    "name": "ml.c5.large",
    "vcpuNum": 2
   },
   {
    "_defaultOrder": 21,
    "_isFastLaunch": false,
    "category": "Compute optimized",
    "gpuNum": 0,
    "memoryGiB": 8,
    "name": "ml.c5.xlarge",
    "vcpuNum": 4
   },
   {
    "_defaultOrder": 22,
    "_isFastLaunch": false,
    "category": "Compute optimized",
    "gpuNum": 0,
    "memoryGiB": 16,
    "name": "ml.c5.2xlarge",
    "vcpuNum": 8
   },
   {
    "_defaultOrder": 23,
    "_isFastLaunch": false,
    "category": "Compute optimized",
    "gpuNum": 0,
    "memoryGiB": 32,
    "name": "ml.c5.4xlarge",
    "vcpuNum": 16
   },
   {
    "_defaultOrder": 24,
    "_isFastLaunch": false,
    "category": "Compute optimized",
    "gpuNum": 0,
    "memoryGiB": 72,
    "name": "ml.c5.9xlarge",
    "vcpuNum": 36
   },
   {
    "_defaultOrder": 25,
    "_isFastLaunch": false,
    "category": "Compute optimized",
    "gpuNum": 0,
    "memoryGiB": 96,
    "name": "ml.c5.12xlarge",
    "vcpuNum": 48
   },
   {
    "_defaultOrder": 26,
    "_isFastLaunch": false,
    "category": "Compute optimized",
    "gpuNum": 0,
    "memoryGiB": 144,
    "name": "ml.c5.18xlarge",
    "vcpuNum": 72
   },
   {
    "_defaultOrder": 27,
    "_isFastLaunch": false,
    "category": "Compute optimized",
    "gpuNum": 0,
    "memoryGiB": 192,
    "name": "ml.c5.24xlarge",
    "vcpuNum": 96
   },
   {
    "_defaultOrder": 28,
    "_isFastLaunch": true,
    "category": "Accelerated computing",
    "gpuNum": 1,
    "memoryGiB": 16,
    "name": "ml.g4dn.xlarge",
    "vcpuNum": 4
   },
   {
    "_defaultOrder": 29,
    "_isFastLaunch": false,
    "category": "Accelerated computing",
    "gpuNum": 1,
    "memoryGiB": 32,
    "name": "ml.g4dn.2xlarge",
    "vcpuNum": 8
   },
   {
    "_defaultOrder": 30,
    "_isFastLaunch": false,
    "category": "Accelerated computing",
    "gpuNum": 1,
    "memoryGiB": 64,
    "name": "ml.g4dn.4xlarge",
    "vcpuNum": 16
   },
   {
    "_defaultOrder": 31,
    "_isFastLaunch": false,
    "category": "Accelerated computing",
    "gpuNum": 1,
    "memoryGiB": 128,
    "name": "ml.g4dn.8xlarge",
    "vcpuNum": 32
   },
   {
    "_defaultOrder": 32,
    "_isFastLaunch": false,
    "category": "Accelerated computing",
    "gpuNum": 4,
    "memoryGiB": 192,
    "name": "ml.g4dn.12xlarge",
    "vcpuNum": 48
   },
   {
    "_defaultOrder": 33,
    "_isFastLaunch": false,
    "category": "Accelerated computing",
    "gpuNum": 1,
    "memoryGiB": 256,
    "name": "ml.g4dn.16xlarge",
    "vcpuNum": 64
   },
   {
    "_defaultOrder": 34,
    "_isFastLaunch": false,
    "category": "Accelerated computing",
    "gpuNum": 1,
    "memoryGiB": 61,
    "name": "ml.p3.2xlarge",
    "vcpuNum": 8
   },
   {
    "_defaultOrder": 35,
    "_isFastLaunch": false,
    "category": "Accelerated computing",
    "gpuNum": 4,
    "memoryGiB": 244,
    "name": "ml.p3.8xlarge",
    "vcpuNum": 32
   },
   {
    "_defaultOrder": 36,
    "_isFastLaunch": false,
    "category": "Accelerated computing",
    "gpuNum": 8,
    "memoryGiB": 488,
    "name": "ml.p3.16xlarge",
    "vcpuNum": 64
   },
   {
    "_defaultOrder": 37,
    "_isFastLaunch": false,
    "category": "Accelerated computing",
    "gpuNum": 8,
    "memoryGiB": 768,
    "name": "ml.p3dn.24xlarge",
    "vcpuNum": 96
   },
   {
    "_defaultOrder": 38,
    "_isFastLaunch": false,
    "category": "Memory Optimized",
    "gpuNum": 0,
    "memoryGiB": 16,
    "name": "ml.r5.large",
    "vcpuNum": 2
   },
   {
    "_defaultOrder": 39,
    "_isFastLaunch": false,
    "category": "Memory Optimized",
    "gpuNum": 0,
    "memoryGiB": 32,
    "name": "ml.r5.xlarge",
    "vcpuNum": 4
   },
   {
    "_defaultOrder": 40,
    "_isFastLaunch": false,
    "category": "Memory Optimized",
    "gpuNum": 0,
    "memoryGiB": 64,
    "name": "ml.r5.2xlarge",
    "vcpuNum": 8
   },
   {
    "_defaultOrder": 41,
    "_isFastLaunch": false,
    "category": "Memory Optimized",
    "gpuNum": 0,
    "memoryGiB": 128,
    "name": "ml.r5.4xlarge",
    "vcpuNum": 16
   },
   {
    "_defaultOrder": 42,
    "_isFastLaunch": false,
    "category": "Memory Optimized",
    "gpuNum": 0,
    "memoryGiB": 256,
    "name": "ml.r5.8xlarge",
    "vcpuNum": 32
   },
   {
    "_defaultOrder": 43,
    "_isFastLaunch": false,
    "category": "Memory Optimized",
    "gpuNum": 0,
    "memoryGiB": 384,
    "name": "ml.r5.12xlarge",
    "vcpuNum": 48
   },
   {
    "_defaultOrder": 44,
    "_isFastLaunch": false,
    "category": "Memory Optimized",
    "gpuNum": 0,
    "memoryGiB": 512,
    "name": "ml.r5.16xlarge",
    "vcpuNum": 64
   },
   {
    "_defaultOrder": 45,
    "_isFastLaunch": false,
    "category": "Memory Optimized",
    "gpuNum": 0,
    "memoryGiB": 768,
    "name": "ml.r5.24xlarge",
    "vcpuNum": 96
   },
   {
    "_defaultOrder": 46,
    "_isFastLaunch": false,
    "category": "Accelerated computing",
    "gpuNum": 1,
    "memoryGiB": 16,
    "name": "ml.g5.xlarge",
    "vcpuNum": 4
   },
   {
    "_defaultOrder": 47,
    "_isFastLaunch": false,
    "category": "Accelerated computing",
    "gpuNum": 1,
    "memoryGiB": 32,
    "name": "ml.g5.2xlarge",
    "vcpuNum": 8
   },
   {
    "_defaultOrder": 48,
    "_isFastLaunch": false,
    "category": "Accelerated computing",
    "gpuNum": 1,
    "memoryGiB": 64,
    "name": "ml.g5.4xlarge",
    "vcpuNum": 16
   },
   {
    "_defaultOrder": 49,
    "_isFastLaunch": false,
    "category": "Accelerated computing",
    "gpuNum": 1,
    "memoryGiB": 128,
    "name": "ml.g5.8xlarge",
    "vcpuNum": 32
   },
   {
    "_defaultOrder": 50,
    "_isFastLaunch": false,
    "category": "Accelerated computing",
    "gpuNum": 1,
    "memoryGiB": 256,
    "name": "ml.g5.16xlarge",
    "vcpuNum": 64
   },
   {
    "_defaultOrder": 51,
    "_isFastLaunch": false,
    "category": "Accelerated computing",
    "gpuNum": 4,
    "memoryGiB": 192,
    "name": "ml.g5.12xlarge",
    "vcpuNum": 48
   },
   {
    "_defaultOrder": 52,
    "_isFastLaunch": false,
    "category": "Accelerated computing",
    "gpuNum": 4,
    "memoryGiB": 384,
    "name": "ml.g5.24xlarge",
    "vcpuNum": 96
   },
   {
    "_defaultOrder": 53,
    "_isFastLaunch": false,
    "category": "Accelerated computing",
    "gpuNum": 8,
    "memoryGiB": 768,
    "name": "ml.g5.48xlarge",
    "vcpuNum": 192
   }
  ],
  "instance_type": "ml.g4dn.xlarge",
  "kernelspec": {
   "display_name": "Python 3 (PyTorch 1.12 Python 3.8 GPU Optimized)",
   "language": "python",
   "name": "python3__SAGEMAKER_INTERNAL__arn:aws:sagemaker:us-east-1:081325390199:image/pytorch-1.12-gpu-py38"
  },
  "language_info": {
   "codemirror_mode": {
    "name": "ipython",
    "version": 3
   },
   "file_extension": ".py",
   "mimetype": "text/x-python",
   "name": "python",
   "nbconvert_exporter": "python",
   "pygments_lexer": "ipython3",
   "version": "3.8.16"
  }
 },
 "nbformat": 4,
 "nbformat_minor": 5
}
